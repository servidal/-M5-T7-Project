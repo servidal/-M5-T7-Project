{
 "cells": [
  {
   "cell_type": "code",
   "execution_count": 2,
   "metadata": {},
   "outputs": [],
   "source": [
    "import torch\n",
    "import torch.nn as nn\n",
    "import torch.optim as optim\n",
    "#from torchsummary import summary\n",
    "from torch.utils.tensorboard import SummaryWriter\n",
    "import numpy as np\n",
    "import torch.optim as optim\n",
    "import numpy as np\n",
    "import matplotlib.pyplot as plt\n",
    "#import seaborn as sns\n",
    "from sklearn import neighbors\n",
    "import torch\n",
    "import torch.nn as nn\n",
    "import torch.nn.functional as F\n",
    "import torch.optim as optim\n",
    "### MNIST code originally from https://github.com/pytorch/examples/blob/master/mnist/main.py ###\n",
    "from torchvision import  transforms\n",
    "\n",
    "from pytorch_metric_learning import distances, losses, miners, reducers, testers\n",
    "from pytorch_metric_learning.utils.accuracy_calculator import AccuracyCalculator\n",
    "\n",
    "from network import Net\n",
    "from dataset import get_dataloaders"
   ]
  },
  {
   "cell_type": "code",
   "execution_count": 3,
   "metadata": {},
   "outputs": [],
   "source": [
    "def accuracy(output, target):\n",
    "  pred = output.argmax(dim=1)  # get the index of the max log-probability\n",
    "  return (pred == target).sum().item() / target.numel()  #return the mean accuracy in the batch\n"
   ]
  },
  {
   "cell_type": "code",
   "execution_count": 4,
   "metadata": {},
   "outputs": [],
   "source": [
    "def eval_epoch(model, test_loader, criterion, epoch):  #evaluation function after one epoch of training\n",
    "  \n",
    "    model.eval()     #eval mode\n",
    "      \n",
    "    with torch.no_grad():\n",
    "        eval_losses = []\n",
    "        eval_accs = []\n",
    "        for (inputs, labels) in test_loader:\n",
    "            #send to GPU device\n",
    "            inputs, labels = inputs.to(device), labels.to(device)            \n",
    "            #forward pass\n",
    "            outputs = model(inputs)  \n",
    "            #compute the loss in the batch\n",
    "            eval_loss = criterion(outputs, labels)\n",
    "            eval_losses.append(eval_loss.item()) #save loss value\n",
    "            #compute the accuracy in the batch\n",
    "            eval_acc = 100 * accuracy(outputs, labels) \n",
    "            eval_accs.append(eval_acc) #save the accuracy value \n",
    "            \n",
    "        print('Val Epoch: {} \\tAverage loss: {:.4f}\\tAverage Acc: {:.2f} %'.format(\n",
    "            epoch, np.mean(eval_losses), np.mean(eval_accs)))\n",
    "        \n",
    "        #val_writer.add_scalar('Loss', np.mean(eval_losses), epoch)  #log validation loss for one epoch to Tensorboard\n",
    "        #val_writer.add_scalar('Acc',  np.mean(eval_accs), epoch)    #log validation accuracy for one epoch to Tensorboard\n",
    "\n",
    "    return np.mean(eval_losses), np.mean(eval_accs)    "
   ]
  },
  {
   "cell_type": "code",
   "execution_count": 5,
   "metadata": {},
   "outputs": [],
   "source": [
    "DATASETDIR = \"../MIT_split/\"\n",
    "MODEL_FNAME = 'model.h5'\n",
    "BATCH_SIZE = 32\n",
    "EPOCHS = 100\n",
    "INPUT_SIZE = 64\n"
   ]
  },
  {
   "cell_type": "code",
   "execution_count": 6,
   "metadata": {},
   "outputs": [],
   "source": [
    "train_loader, test_loader,train_data,test_data = get_dataloaders(DATASETDIR, INPUT_SIZE, BATCH_SIZE)"
   ]
  },
  {
   "cell_type": "code",
   "execution_count": 8,
   "metadata": {},
   "outputs": [
    {
     "name": "stdout",
     "output_type": "stream",
     "text": [
      "Epoch 1 Iteration 0: Loss = 0.8608020544052124\n",
      "Epoch 1 Iteration 10: Loss = 0.8502522706985474\n",
      "Epoch 1 Iteration 20: Loss = 0.8365873694419861\n",
      "Epoch 1 Iteration 30: Loss = 0.8305540084838867\n",
      "Epoch 1 Iteration 40: Loss = 1.6472599506378174\n",
      "Epoch 1 Iteration 50: Loss = 1.7081189155578613\n"
     ]
    },
    {
     "name": "stderr",
     "output_type": "stream",
     "text": [
      "100%|██████████| 59/59 [00:01<00:00, 54.85it/s]\n",
      "100%|██████████| 26/26 [00:00<00:00, 53.70it/s]\n"
     ]
    },
    {
     "name": "stdout",
     "output_type": "stream",
     "text": [
      "Computing accuracy\n",
      "Test set accuracy (Precision@1) = 0.8413878562577447\n",
      "Epoch 2 Iteration 0: Loss = 1.6832927465438843\n",
      "Epoch 2 Iteration 10: Loss = 0.8456482291221619\n",
      "Epoch 2 Iteration 20: Loss = 0.8741199970245361\n",
      "Epoch 2 Iteration 30: Loss = 0.8320398330688477\n",
      "Epoch 2 Iteration 40: Loss = 0.8995137214660645\n",
      "Epoch 2 Iteration 50: Loss = 0.8630046844482422\n"
     ]
    },
    {
     "name": "stderr",
     "output_type": "stream",
     "text": [
      "100%|██████████| 59/59 [00:01<00:00, 54.19it/s]\n",
      "100%|██████████| 26/26 [00:00<00:00, 56.59it/s]\n"
     ]
    },
    {
     "name": "stdout",
     "output_type": "stream",
     "text": [
      "Computing accuracy\n",
      "Test set accuracy (Precision@1) = 0.838909541511772\n",
      "Epoch 3 Iteration 0: Loss = 1.740483045578003\n",
      "Epoch 3 Iteration 10: Loss = 0.8164945840835571\n",
      "Epoch 3 Iteration 20: Loss = 0.8532185554504395\n",
      "Epoch 3 Iteration 30: Loss = 0.8177072405815125\n",
      "Epoch 3 Iteration 40: Loss = 0.8561083078384399\n",
      "Epoch 3 Iteration 50: Loss = 0.8414020538330078\n"
     ]
    },
    {
     "name": "stderr",
     "output_type": "stream",
     "text": [
      "100%|██████████| 59/59 [00:01<00:00, 57.43it/s]\n",
      "100%|██████████| 26/26 [00:00<00:00, 56.04it/s]\n"
     ]
    },
    {
     "name": "stdout",
     "output_type": "stream",
     "text": [
      "Computing accuracy\n",
      "Test set accuracy (Precision@1) = 0.8463444857496902\n",
      "Epoch 4 Iteration 0: Loss = 0.8378059267997742\n",
      "Epoch 4 Iteration 10: Loss = 0.8473248481750488\n",
      "Epoch 4 Iteration 20: Loss = 0.9350436925888062\n",
      "Epoch 4 Iteration 30: Loss = 0.8500131964683533\n",
      "Epoch 4 Iteration 40: Loss = 0.8657909631729126\n",
      "Epoch 4 Iteration 50: Loss = 1.7013838291168213\n"
     ]
    },
    {
     "name": "stderr",
     "output_type": "stream",
     "text": [
      "100%|██████████| 59/59 [00:01<00:00, 55.51it/s]\n",
      "100%|██████████| 26/26 [00:00<00:00, 63.49it/s]\n"
     ]
    },
    {
     "name": "stdout",
     "output_type": "stream",
     "text": [
      "Computing accuracy\n",
      "Test set accuracy (Precision@1) = 0.8562577447335812\n",
      "Epoch 5 Iteration 0: Loss = 0.9172502160072327\n",
      "Epoch 5 Iteration 10: Loss = 0.8270010948181152\n",
      "Epoch 5 Iteration 20: Loss = 0.8362377882003784\n",
      "Epoch 5 Iteration 30: Loss = 0.8268955945968628\n",
      "Epoch 5 Iteration 40: Loss = 0.8382452726364136\n",
      "Epoch 5 Iteration 50: Loss = 1.6337554454803467\n"
     ]
    },
    {
     "name": "stderr",
     "output_type": "stream",
     "text": [
      "100%|██████████| 59/59 [00:01<00:00, 56.44it/s]\n",
      "100%|██████████| 26/26 [00:00<00:00, 55.06it/s]\n"
     ]
    },
    {
     "name": "stdout",
     "output_type": "stream",
     "text": [
      "Computing accuracy\n",
      "Test set accuracy (Precision@1) = 0.8513011152416357\n",
      "Epoch 6 Iteration 0: Loss = 1.7088550329208374\n",
      "Epoch 6 Iteration 10: Loss = 0.8670148849487305\n",
      "Epoch 6 Iteration 20: Loss = 0.818017840385437\n",
      "Epoch 6 Iteration 30: Loss = 0.8435063362121582\n",
      "Epoch 6 Iteration 40: Loss = 0.8489431142807007\n",
      "Epoch 6 Iteration 50: Loss = 0.8075515031814575\n"
     ]
    },
    {
     "name": "stderr",
     "output_type": "stream",
     "text": [
      "100%|██████████| 59/59 [00:01<00:00, 57.35it/s]\n",
      "100%|██████████| 26/26 [00:00<00:00, 59.09it/s]\n"
     ]
    },
    {
     "name": "stdout",
     "output_type": "stream",
     "text": [
      "Computing accuracy\n",
      "Test set accuracy (Precision@1) = 0.8587360594795539\n",
      "Epoch 7 Iteration 0: Loss = 0.8250477313995361\n",
      "Epoch 7 Iteration 10: Loss = 1.6282198429107666\n",
      "Epoch 7 Iteration 20: Loss = 0.8446965217590332\n",
      "Epoch 7 Iteration 30: Loss = 1.749361276626587\n",
      "Epoch 7 Iteration 40: Loss = 0.844568133354187\n",
      "Epoch 7 Iteration 50: Loss = 1.6454797983169556\n"
     ]
    },
    {
     "name": "stderr",
     "output_type": "stream",
     "text": [
      "100%|██████████| 59/59 [00:01<00:00, 53.54it/s]\n",
      "100%|██████████| 26/26 [00:00<00:00, 56.76it/s]\n"
     ]
    },
    {
     "name": "stdout",
     "output_type": "stream",
     "text": [
      "Computing accuracy\n",
      "Test set accuracy (Precision@1) = 0.862453531598513\n",
      "Epoch 8 Iteration 0: Loss = 0.8377131819725037\n",
      "Epoch 8 Iteration 10: Loss = 0.8110288977622986\n",
      "Epoch 8 Iteration 20: Loss = 0.8342521786689758\n",
      "Epoch 8 Iteration 30: Loss = 0.8454141616821289\n",
      "Epoch 8 Iteration 40: Loss = 0.0\n",
      "Epoch 8 Iteration 50: Loss = 0.8419004678726196\n"
     ]
    },
    {
     "name": "stderr",
     "output_type": "stream",
     "text": [
      "100%|██████████| 59/59 [00:01<00:00, 55.21it/s]\n",
      "100%|██████████| 26/26 [00:00<00:00, 60.43it/s]\n"
     ]
    },
    {
     "name": "stdout",
     "output_type": "stream",
     "text": [
      "Computing accuracy\n",
      "Test set accuracy (Precision@1) = 0.8525402726146221\n",
      "Epoch 9 Iteration 0: Loss = 1.6168670654296875\n",
      "Epoch 9 Iteration 10: Loss = 0.8463498950004578\n",
      "Epoch 9 Iteration 20: Loss = 0.8572648763656616\n",
      "Epoch 9 Iteration 30: Loss = 0.8620737791061401\n",
      "Epoch 9 Iteration 40: Loss = 0.8447238802909851\n",
      "Epoch 9 Iteration 50: Loss = 0.845262885093689\n"
     ]
    },
    {
     "name": "stderr",
     "output_type": "stream",
     "text": [
      "100%|██████████| 59/59 [00:01<00:00, 57.82it/s]\n",
      "100%|██████████| 26/26 [00:00<00:00, 57.19it/s]\n"
     ]
    },
    {
     "name": "stdout",
     "output_type": "stream",
     "text": [
      "Computing accuracy\n",
      "Test set accuracy (Precision@1) = 0.8537794299876085\n",
      "Epoch 10 Iteration 0: Loss = 0.8756775259971619\n",
      "Epoch 10 Iteration 10: Loss = 0.8609156608581543\n",
      "Epoch 10 Iteration 20: Loss = 0.830653190612793\n",
      "Epoch 10 Iteration 30: Loss = 0.8571123480796814\n",
      "Epoch 10 Iteration 40: Loss = 1.7342926263809204\n",
      "Epoch 10 Iteration 50: Loss = 1.7117401361465454\n"
     ]
    },
    {
     "name": "stderr",
     "output_type": "stream",
     "text": [
      "100%|██████████| 59/59 [00:01<00:00, 52.93it/s]\n",
      "100%|██████████| 26/26 [00:00<00:00, 60.88it/s]\n"
     ]
    },
    {
     "name": "stdout",
     "output_type": "stream",
     "text": [
      "Computing accuracy\n",
      "Test set accuracy (Precision@1) = 0.8475836431226766\n",
      "Epoch 11 Iteration 0: Loss = 0.811145007610321\n",
      "Epoch 11 Iteration 10: Loss = 0.8009283542633057\n",
      "Epoch 11 Iteration 20: Loss = 0.8253642320632935\n",
      "Epoch 11 Iteration 30: Loss = 0.8400733470916748\n",
      "Epoch 11 Iteration 40: Loss = 1.6941392421722412\n",
      "Epoch 11 Iteration 50: Loss = 0.829342782497406\n"
     ]
    },
    {
     "name": "stderr",
     "output_type": "stream",
     "text": [
      "100%|██████████| 59/59 [00:01<00:00, 57.92it/s]\n",
      "100%|██████████| 26/26 [00:00<00:00, 56.82it/s]\n"
     ]
    },
    {
     "name": "stdout",
     "output_type": "stream",
     "text": [
      "Computing accuracy\n",
      "Test set accuracy (Precision@1) = 0.8351920693928129\n",
      "Epoch 12 Iteration 0: Loss = 0.8150495886802673\n",
      "Epoch 12 Iteration 10: Loss = 0.8506501913070679\n",
      "Epoch 12 Iteration 20: Loss = 1.6954340934753418\n",
      "Epoch 12 Iteration 30: Loss = 0.8627597093582153\n",
      "Epoch 12 Iteration 40: Loss = 0.8058092594146729\n",
      "Epoch 12 Iteration 50: Loss = 1.7652618885040283\n"
     ]
    },
    {
     "name": "stderr",
     "output_type": "stream",
     "text": [
      "100%|██████████| 59/59 [00:01<00:00, 56.82it/s]\n",
      "100%|██████████| 26/26 [00:00<00:00, 62.64it/s]\n"
     ]
    },
    {
     "name": "stdout",
     "output_type": "stream",
     "text": [
      "Computing accuracy\n",
      "Test set accuracy (Precision@1) = 0.8550185873605948\n",
      "Epoch 13 Iteration 0: Loss = 1.6579896211624146\n",
      "Epoch 13 Iteration 10: Loss = 1.6621966361999512\n",
      "Epoch 13 Iteration 20: Loss = 0.8348438143730164\n",
      "Epoch 13 Iteration 30: Loss = 1.7945537567138672\n",
      "Epoch 13 Iteration 40: Loss = 0.8556416630744934\n",
      "Epoch 13 Iteration 50: Loss = 0.8405618071556091\n"
     ]
    },
    {
     "name": "stderr",
     "output_type": "stream",
     "text": [
      "100%|██████████| 59/59 [00:01<00:00, 58.41it/s]\n",
      "100%|██████████| 26/26 [00:00<00:00, 60.05it/s]\n"
     ]
    },
    {
     "name": "stdout",
     "output_type": "stream",
     "text": [
      "Computing accuracy\n",
      "Test set accuracy (Precision@1) = 0.8438661710037175\n",
      "Epoch 14 Iteration 0: Loss = 0.8549136519432068\n",
      "Epoch 14 Iteration 10: Loss = 0.8575234413146973\n",
      "Epoch 14 Iteration 20: Loss = 0.8296933174133301\n",
      "Epoch 14 Iteration 30: Loss = 1.7356297969818115\n",
      "Epoch 14 Iteration 40: Loss = 0.8653296232223511\n",
      "Epoch 14 Iteration 50: Loss = 0.8912585973739624\n"
     ]
    },
    {
     "name": "stderr",
     "output_type": "stream",
     "text": [
      "100%|██████████| 59/59 [00:01<00:00, 56.69it/s]\n",
      "100%|██████████| 26/26 [00:00<00:00, 58.09it/s]\n"
     ]
    },
    {
     "name": "stdout",
     "output_type": "stream",
     "text": [
      "Computing accuracy\n",
      "Test set accuracy (Precision@1) = 0.8463444857496902\n",
      "Epoch 15 Iteration 0: Loss = 0.8685717582702637\n",
      "Epoch 15 Iteration 10: Loss = 0.8339118361473083\n",
      "Epoch 15 Iteration 20: Loss = 0.8416603207588196\n",
      "Epoch 15 Iteration 30: Loss = 0.0\n",
      "Epoch 15 Iteration 40: Loss = 0.0\n",
      "Epoch 15 Iteration 50: Loss = 0.8636640310287476\n"
     ]
    },
    {
     "name": "stderr",
     "output_type": "stream",
     "text": [
      "100%|██████████| 59/59 [00:01<00:00, 54.09it/s]\n",
      "100%|██████████| 26/26 [00:00<00:00, 59.26it/s]\n"
     ]
    },
    {
     "name": "stdout",
     "output_type": "stream",
     "text": [
      "Computing accuracy\n",
      "Test set accuracy (Precision@1) = 0.8587360594795539\n",
      "Epoch 16 Iteration 0: Loss = 1.655503511428833\n",
      "Epoch 16 Iteration 10: Loss = 0.8149275183677673\n",
      "Epoch 16 Iteration 20: Loss = 0.8855594396591187\n",
      "Epoch 16 Iteration 30: Loss = 1.6777291297912598\n",
      "Epoch 16 Iteration 40: Loss = 0.8159574270248413\n",
      "Epoch 16 Iteration 50: Loss = 1.7117130756378174\n"
     ]
    },
    {
     "name": "stderr",
     "output_type": "stream",
     "text": [
      "100%|██████████| 59/59 [00:01<00:00, 53.27it/s]\n",
      "100%|██████████| 26/26 [00:00<00:00, 61.06it/s]\n"
     ]
    },
    {
     "name": "stdout",
     "output_type": "stream",
     "text": [
      "Computing accuracy\n",
      "Test set accuracy (Precision@1) = 0.8587360594795539\n",
      "Epoch 17 Iteration 0: Loss = 1.7821426391601562\n",
      "Epoch 17 Iteration 10: Loss = 1.628800630569458\n",
      "Epoch 17 Iteration 20: Loss = 1.7227411270141602\n",
      "Epoch 17 Iteration 30: Loss = 0.8655951619148254\n",
      "Epoch 17 Iteration 40: Loss = 0.813727080821991\n",
      "Epoch 17 Iteration 50: Loss = 0.8528076410293579\n"
     ]
    },
    {
     "name": "stderr",
     "output_type": "stream",
     "text": [
      "100%|██████████| 59/59 [00:01<00:00, 53.12it/s]\n",
      "100%|██████████| 26/26 [00:00<00:00, 59.98it/s]\n"
     ]
    },
    {
     "name": "stdout",
     "output_type": "stream",
     "text": [
      "Computing accuracy\n",
      "Test set accuracy (Precision@1) = 0.8587360594795539\n",
      "Epoch 18 Iteration 0: Loss = 0.8622288107872009\n",
      "Epoch 18 Iteration 10: Loss = 0.8429937362670898\n",
      "Epoch 18 Iteration 20: Loss = 0.8317922949790955\n",
      "Epoch 18 Iteration 30: Loss = 1.7728674411773682\n",
      "Epoch 18 Iteration 40: Loss = 0.8377872705459595\n",
      "Epoch 18 Iteration 50: Loss = 0.8747804164886475\n"
     ]
    },
    {
     "name": "stderr",
     "output_type": "stream",
     "text": [
      "100%|██████████| 59/59 [00:01<00:00, 54.86it/s]\n",
      "100%|██████████| 26/26 [00:00<00:00, 61.34it/s]\n"
     ]
    },
    {
     "name": "stdout",
     "output_type": "stream",
     "text": [
      "Computing accuracy\n",
      "Test set accuracy (Precision@1) = 0.8475836431226766\n",
      "Epoch 19 Iteration 0: Loss = 0.868883490562439\n",
      "Epoch 19 Iteration 10: Loss = 0.8337461352348328\n",
      "Epoch 19 Iteration 20: Loss = 0.9009954333305359\n",
      "Epoch 19 Iteration 30: Loss = 0.8249845504760742\n",
      "Epoch 19 Iteration 40: Loss = 0.8294954299926758\n",
      "Epoch 19 Iteration 50: Loss = 0.858590841293335\n"
     ]
    },
    {
     "name": "stderr",
     "output_type": "stream",
     "text": [
      "100%|██████████| 59/59 [00:01<00:00, 57.46it/s]\n",
      "100%|██████████| 26/26 [00:00<00:00, 58.63it/s]\n"
     ]
    },
    {
     "name": "stdout",
     "output_type": "stream",
     "text": [
      "Computing accuracy\n",
      "Test set accuracy (Precision@1) = 0.8475836431226766\n",
      "Epoch 20 Iteration 0: Loss = 0.0\n",
      "Epoch 20 Iteration 10: Loss = 0.8617388010025024\n",
      "Epoch 20 Iteration 20: Loss = 0.825741708278656\n",
      "Epoch 20 Iteration 30: Loss = 1.6822421550750732\n",
      "Epoch 20 Iteration 40: Loss = 0.8197629451751709\n",
      "Epoch 20 Iteration 50: Loss = 0.8546146750450134\n"
     ]
    },
    {
     "name": "stderr",
     "output_type": "stream",
     "text": [
      "100%|██████████| 59/59 [00:01<00:00, 58.74it/s]\n",
      "100%|██████████| 26/26 [00:00<00:00, 60.26it/s]\n"
     ]
    },
    {
     "name": "stdout",
     "output_type": "stream",
     "text": [
      "Computing accuracy\n",
      "Test set accuracy (Precision@1) = 0.8451053283767038\n",
      "Epoch 21 Iteration 0: Loss = 0.845436692237854\n",
      "Epoch 21 Iteration 10: Loss = 0.8360859155654907\n",
      "Epoch 21 Iteration 20: Loss = 0.8464764952659607\n",
      "Epoch 21 Iteration 30: Loss = 0.8835487365722656\n",
      "Epoch 21 Iteration 40: Loss = 0.8460739850997925\n",
      "Epoch 21 Iteration 50: Loss = 1.8152217864990234\n"
     ]
    },
    {
     "name": "stderr",
     "output_type": "stream",
     "text": [
      "100%|██████████| 59/59 [00:01<00:00, 53.60it/s]\n",
      "100%|██████████| 26/26 [00:00<00:00, 56.32it/s]\n"
     ]
    },
    {
     "name": "stdout",
     "output_type": "stream",
     "text": [
      "Computing accuracy\n",
      "Test set accuracy (Precision@1) = 0.8525402726146221\n",
      "Epoch 22 Iteration 0: Loss = 0.8269205689430237\n",
      "Epoch 22 Iteration 10: Loss = 0.8376611471176147\n",
      "Epoch 22 Iteration 20: Loss = 0.8644178509712219\n",
      "Epoch 22 Iteration 30: Loss = 0.829053521156311\n",
      "Epoch 22 Iteration 40: Loss = 0.8580305576324463\n",
      "Epoch 22 Iteration 50: Loss = 0.8357903361320496\n"
     ]
    },
    {
     "name": "stderr",
     "output_type": "stream",
     "text": [
      "100%|██████████| 59/59 [00:01<00:00, 55.39it/s]\n",
      "100%|██████████| 26/26 [00:00<00:00, 61.70it/s]\n"
     ]
    },
    {
     "name": "stdout",
     "output_type": "stream",
     "text": [
      "Computing accuracy\n",
      "Test set accuracy (Precision@1) = 0.8463444857496902\n",
      "Epoch 23 Iteration 0: Loss = 1.695202350616455\n",
      "Epoch 23 Iteration 10: Loss = 1.72554349899292\n",
      "Epoch 23 Iteration 20: Loss = 0.8275811076164246\n",
      "Epoch 23 Iteration 30: Loss = 1.6799565553665161\n",
      "Epoch 23 Iteration 40: Loss = 0.0\n",
      "Epoch 23 Iteration 50: Loss = 1.7178637981414795\n"
     ]
    },
    {
     "name": "stderr",
     "output_type": "stream",
     "text": [
      "100%|██████████| 59/59 [00:01<00:00, 55.00it/s]\n",
      "100%|██████████| 26/26 [00:00<00:00, 57.08it/s]\n"
     ]
    },
    {
     "name": "stdout",
     "output_type": "stream",
     "text": [
      "Computing accuracy\n",
      "Test set accuracy (Precision@1) = 0.8599752168525403\n",
      "Epoch 24 Iteration 0: Loss = 0.8414093852043152\n",
      "Epoch 24 Iteration 10: Loss = 0.8348971605300903\n",
      "Epoch 24 Iteration 20: Loss = 0.8536829352378845\n",
      "Epoch 24 Iteration 30: Loss = 0.8447391390800476\n",
      "Epoch 24 Iteration 40: Loss = 0.8312560319900513\n",
      "Epoch 24 Iteration 50: Loss = 0.8291888236999512\n"
     ]
    },
    {
     "name": "stderr",
     "output_type": "stream",
     "text": [
      "100%|██████████| 59/59 [00:01<00:00, 56.71it/s]\n",
      "100%|██████████| 26/26 [00:00<00:00, 64.01it/s]\n"
     ]
    },
    {
     "name": "stdout",
     "output_type": "stream",
     "text": [
      "Computing accuracy\n",
      "Test set accuracy (Precision@1) = 0.8562577447335812\n",
      "Epoch 25 Iteration 0: Loss = 1.728410005569458\n",
      "Epoch 25 Iteration 10: Loss = 0.8542023301124573\n",
      "Epoch 25 Iteration 20: Loss = 0.8353495597839355\n",
      "Epoch 25 Iteration 30: Loss = 1.6580675840377808\n",
      "Epoch 25 Iteration 40: Loss = 1.6857678890228271\n",
      "Epoch 25 Iteration 50: Loss = 0.823124885559082\n"
     ]
    },
    {
     "name": "stderr",
     "output_type": "stream",
     "text": [
      "100%|██████████| 59/59 [00:01<00:00, 51.74it/s]\n",
      "100%|██████████| 26/26 [00:00<00:00, 55.18it/s]\n"
     ]
    },
    {
     "name": "stdout",
     "output_type": "stream",
     "text": [
      "Computing accuracy\n",
      "Test set accuracy (Precision@1) = 0.8401486988847584\n",
      "Epoch 26 Iteration 0: Loss = 0.0\n",
      "Epoch 26 Iteration 10: Loss = 0.8324156999588013\n",
      "Epoch 26 Iteration 20: Loss = 0.8617737889289856\n",
      "Epoch 26 Iteration 30: Loss = 0.8386404514312744\n",
      "Epoch 26 Iteration 40: Loss = 1.6400818824768066\n",
      "Epoch 26 Iteration 50: Loss = 0.833436131477356\n"
     ]
    },
    {
     "name": "stderr",
     "output_type": "stream",
     "text": [
      "100%|██████████| 59/59 [00:01<00:00, 54.63it/s]\n",
      "100%|██████████| 26/26 [00:00<00:00, 57.87it/s]\n"
     ]
    },
    {
     "name": "stdout",
     "output_type": "stream",
     "text": [
      "Computing accuracy\n",
      "Test set accuracy (Precision@1) = 0.8401486988847584\n",
      "Epoch 27 Iteration 0: Loss = 1.710538387298584\n",
      "Epoch 27 Iteration 10: Loss = 0.8553339242935181\n",
      "Epoch 27 Iteration 20: Loss = 0.8412096500396729\n",
      "Epoch 27 Iteration 30: Loss = 0.8527017831802368\n",
      "Epoch 27 Iteration 40: Loss = 0.8344597816467285\n",
      "Epoch 27 Iteration 50: Loss = 0.8584938049316406\n"
     ]
    },
    {
     "name": "stderr",
     "output_type": "stream",
     "text": [
      "100%|██████████| 59/59 [00:01<00:00, 54.83it/s]\n",
      "100%|██████████| 26/26 [00:00<00:00, 56.72it/s]\n"
     ]
    },
    {
     "name": "stdout",
     "output_type": "stream",
     "text": [
      "Computing accuracy\n",
      "Test set accuracy (Precision@1) = 0.8636926889714994\n",
      "Epoch 28 Iteration 0: Loss = 0.8184556365013123\n",
      "Epoch 28 Iteration 10: Loss = 0.8044385313987732\n",
      "Epoch 28 Iteration 20: Loss = 1.7267801761627197\n",
      "Epoch 28 Iteration 30: Loss = 0.8442420959472656\n",
      "Epoch 28 Iteration 40: Loss = 0.8575664758682251\n",
      "Epoch 28 Iteration 50: Loss = 0.8246452212333679\n"
     ]
    },
    {
     "name": "stderr",
     "output_type": "stream",
     "text": [
      "100%|██████████| 59/59 [00:01<00:00, 53.74it/s]\n",
      "100%|██████████| 26/26 [00:00<00:00, 60.86it/s]\n"
     ]
    },
    {
     "name": "stdout",
     "output_type": "stream",
     "text": [
      "Computing accuracy\n",
      "Test set accuracy (Precision@1) = 0.8438661710037175\n",
      "Epoch 29 Iteration 0: Loss = 1.7609131336212158\n",
      "Epoch 29 Iteration 10: Loss = 0.8085259199142456\n",
      "Epoch 29 Iteration 20: Loss = 0.8786428570747375\n",
      "Epoch 29 Iteration 30: Loss = 0.8241778016090393\n",
      "Epoch 29 Iteration 40: Loss = 0.8383148908615112\n",
      "Epoch 29 Iteration 50: Loss = 1.7243423461914062\n"
     ]
    },
    {
     "name": "stderr",
     "output_type": "stream",
     "text": [
      "100%|██████████| 59/59 [00:01<00:00, 55.49it/s]\n",
      "100%|██████████| 26/26 [00:00<00:00, 55.46it/s]\n"
     ]
    },
    {
     "name": "stdout",
     "output_type": "stream",
     "text": [
      "Computing accuracy\n",
      "Test set accuracy (Precision@1) = 0.8203221809169765\n",
      "Epoch 30 Iteration 0: Loss = 0.865835428237915\n",
      "Epoch 30 Iteration 10: Loss = 0.8748434782028198\n",
      "Epoch 30 Iteration 20: Loss = 0.8452204465866089\n",
      "Epoch 30 Iteration 30: Loss = 0.0\n",
      "Epoch 30 Iteration 40: Loss = 0.8165642023086548\n",
      "Epoch 30 Iteration 50: Loss = 0.8461470603942871\n"
     ]
    },
    {
     "name": "stderr",
     "output_type": "stream",
     "text": [
      "100%|██████████| 59/59 [00:01<00:00, 55.26it/s]\n",
      "100%|██████████| 26/26 [00:00<00:00, 57.36it/s]\n"
     ]
    },
    {
     "name": "stdout",
     "output_type": "stream",
     "text": [
      "Computing accuracy\n",
      "Test set accuracy (Precision@1) = 0.8574969021065676\n",
      "Epoch 31 Iteration 0: Loss = 0.8657054901123047\n",
      "Epoch 31 Iteration 10: Loss = 0.8299112319946289\n",
      "Epoch 31 Iteration 20: Loss = 0.8147847056388855\n",
      "Epoch 31 Iteration 30: Loss = 0.8468393087387085\n",
      "Epoch 31 Iteration 40: Loss = 0.8625214099884033\n",
      "Epoch 31 Iteration 50: Loss = 0.8358380794525146\n"
     ]
    },
    {
     "name": "stderr",
     "output_type": "stream",
     "text": [
      "100%|██████████| 59/59 [00:01<00:00, 56.41it/s]\n",
      "100%|██████████| 26/26 [00:00<00:00, 63.83it/s]\n"
     ]
    },
    {
     "name": "stdout",
     "output_type": "stream",
     "text": [
      "Computing accuracy\n",
      "Test set accuracy (Precision@1) = 0.8612143742255266\n",
      "Epoch 32 Iteration 0: Loss = 1.6993820667266846\n",
      "Epoch 32 Iteration 10: Loss = 0.8315391540527344\n",
      "Epoch 32 Iteration 20: Loss = 1.725712776184082\n",
      "Epoch 32 Iteration 30: Loss = 0.8331624269485474\n",
      "Epoch 32 Iteration 40: Loss = 0.8737207651138306\n",
      "Epoch 32 Iteration 50: Loss = 0.8438349366188049\n"
     ]
    },
    {
     "name": "stderr",
     "output_type": "stream",
     "text": [
      "100%|██████████| 59/59 [00:01<00:00, 58.26it/s]\n",
      "100%|██████████| 26/26 [00:00<00:00, 55.73it/s]\n"
     ]
    },
    {
     "name": "stdout",
     "output_type": "stream",
     "text": [
      "Computing accuracy\n",
      "Test set accuracy (Precision@1) = 0.8525402726146221\n",
      "Epoch 33 Iteration 0: Loss = 0.8662792444229126\n",
      "Epoch 33 Iteration 10: Loss = 0.8472848534584045\n",
      "Epoch 33 Iteration 20: Loss = 0.8457962274551392\n",
      "Epoch 33 Iteration 30: Loss = 0.841044545173645\n",
      "Epoch 33 Iteration 40: Loss = 0.8354641199111938\n",
      "Epoch 33 Iteration 50: Loss = 0.8543676733970642\n"
     ]
    },
    {
     "name": "stderr",
     "output_type": "stream",
     "text": [
      "100%|██████████| 59/59 [00:01<00:00, 53.51it/s]\n",
      "100%|██████████| 26/26 [00:00<00:00, 61.95it/s]\n"
     ]
    },
    {
     "name": "stdout",
     "output_type": "stream",
     "text": [
      "Computing accuracy\n",
      "Test set accuracy (Precision@1) = 0.8463444857496902\n",
      "Epoch 34 Iteration 0: Loss = 0.8365049958229065\n",
      "Epoch 34 Iteration 10: Loss = 0.8395451903343201\n",
      "Epoch 34 Iteration 20: Loss = 0.8689829707145691\n",
      "Epoch 34 Iteration 30: Loss = 0.8481152653694153\n",
      "Epoch 34 Iteration 40: Loss = 0.8186514377593994\n",
      "Epoch 34 Iteration 50: Loss = 0.8551497459411621\n"
     ]
    },
    {
     "name": "stderr",
     "output_type": "stream",
     "text": [
      "100%|██████████| 59/59 [00:01<00:00, 53.64it/s]\n",
      "100%|██████████| 26/26 [00:00<00:00, 56.78it/s]\n"
     ]
    },
    {
     "name": "stdout",
     "output_type": "stream",
     "text": [
      "Computing accuracy\n",
      "Test set accuracy (Precision@1) = 0.8500619578686494\n",
      "Epoch 35 Iteration 0: Loss = 0.8306248188018799\n",
      "Epoch 35 Iteration 10: Loss = 0.8278019428253174\n",
      "Epoch 35 Iteration 20: Loss = 0.8251523971557617\n",
      "Epoch 35 Iteration 30: Loss = 0.833380937576294\n",
      "Epoch 35 Iteration 40: Loss = 0.8251094818115234\n",
      "Epoch 35 Iteration 50: Loss = 0.8454133868217468\n"
     ]
    },
    {
     "name": "stderr",
     "output_type": "stream",
     "text": [
      "100%|██████████| 59/59 [00:01<00:00, 54.79it/s]\n",
      "100%|██████████| 26/26 [00:00<00:00, 57.80it/s]\n"
     ]
    },
    {
     "name": "stdout",
     "output_type": "stream",
     "text": [
      "Computing accuracy\n",
      "Test set accuracy (Precision@1) = 0.8426270136307311\n",
      "Epoch 36 Iteration 0: Loss = 0.8373085856437683\n",
      "Epoch 36 Iteration 10: Loss = 0.8170473575592041\n",
      "Epoch 36 Iteration 20: Loss = 0.8313363790512085\n",
      "Epoch 36 Iteration 30: Loss = 0.8621379733085632\n",
      "Epoch 36 Iteration 40: Loss = 0.8444294333457947\n",
      "Epoch 36 Iteration 50: Loss = 0.8332464098930359\n"
     ]
    },
    {
     "name": "stderr",
     "output_type": "stream",
     "text": [
      "100%|██████████| 59/59 [00:01<00:00, 56.22it/s]\n",
      "100%|██████████| 26/26 [00:00<00:00, 56.23it/s]\n"
     ]
    },
    {
     "name": "stdout",
     "output_type": "stream",
     "text": [
      "Computing accuracy\n",
      "Test set accuracy (Precision@1) = 0.8265179677819083\n",
      "Epoch 37 Iteration 0: Loss = 0.8310024738311768\n",
      "Epoch 37 Iteration 10: Loss = 1.7525501251220703\n",
      "Epoch 37 Iteration 20: Loss = 0.8585569262504578\n",
      "Epoch 37 Iteration 30: Loss = 1.7144160270690918\n",
      "Epoch 37 Iteration 40: Loss = 0.8729743957519531\n",
      "Epoch 37 Iteration 50: Loss = 0.8381513953208923\n"
     ]
    },
    {
     "name": "stderr",
     "output_type": "stream",
     "text": [
      "100%|██████████| 59/59 [00:00<00:00, 59.07it/s]\n",
      "100%|██████████| 26/26 [00:00<00:00, 59.57it/s]\n"
     ]
    },
    {
     "name": "stdout",
     "output_type": "stream",
     "text": [
      "Computing accuracy\n",
      "Test set accuracy (Precision@1) = 0.8537794299876085\n",
      "Epoch 38 Iteration 0: Loss = 0.8287212252616882\n",
      "Epoch 38 Iteration 10: Loss = 0.8408696055412292\n",
      "Epoch 38 Iteration 20: Loss = 0.0\n",
      "Epoch 38 Iteration 30: Loss = 0.8492650985717773\n",
      "Epoch 38 Iteration 40: Loss = 0.860932469367981\n",
      "Epoch 38 Iteration 50: Loss = 0.8696841597557068\n"
     ]
    },
    {
     "name": "stderr",
     "output_type": "stream",
     "text": [
      "100%|██████████| 59/59 [00:01<00:00, 53.58it/s]\n",
      "100%|██████████| 26/26 [00:00<00:00, 55.41it/s]\n"
     ]
    },
    {
     "name": "stdout",
     "output_type": "stream",
     "text": [
      "Computing accuracy\n",
      "Test set accuracy (Precision@1) = 0.828996282527881\n",
      "Epoch 39 Iteration 0: Loss = 1.695864200592041\n",
      "Epoch 39 Iteration 10: Loss = 0.8510267734527588\n",
      "Epoch 39 Iteration 20: Loss = 1.6678767204284668\n",
      "Epoch 39 Iteration 30: Loss = 0.8523547053337097\n",
      "Epoch 39 Iteration 40: Loss = 0.8269226551055908\n",
      "Epoch 39 Iteration 50: Loss = 0.8666517734527588\n"
     ]
    },
    {
     "name": "stderr",
     "output_type": "stream",
     "text": [
      "100%|██████████| 59/59 [00:01<00:00, 56.47it/s]\n",
      "100%|██████████| 26/26 [00:00<00:00, 61.71it/s]\n"
     ]
    },
    {
     "name": "stdout",
     "output_type": "stream",
     "text": [
      "Computing accuracy\n",
      "Test set accuracy (Precision@1) = 0.8351920693928129\n",
      "Epoch 40 Iteration 0: Loss = 0.8498029112815857\n",
      "Epoch 40 Iteration 10: Loss = 0.8512502312660217\n",
      "Epoch 40 Iteration 20: Loss = 1.6829315423965454\n",
      "Epoch 40 Iteration 30: Loss = 1.6531721353530884\n",
      "Epoch 40 Iteration 40: Loss = 0.8491701483726501\n",
      "Epoch 40 Iteration 50: Loss = 0.8246749043464661\n"
     ]
    },
    {
     "name": "stderr",
     "output_type": "stream",
     "text": [
      "100%|██████████| 59/59 [00:01<00:00, 55.89it/s]\n",
      "100%|██████████| 26/26 [00:00<00:00, 60.35it/s]\n"
     ]
    },
    {
     "name": "stdout",
     "output_type": "stream",
     "text": [
      "Computing accuracy\n",
      "Test set accuracy (Precision@1) = 0.8438661710037175\n",
      "Epoch 41 Iteration 0: Loss = 0.8389855623245239\n",
      "Epoch 41 Iteration 10: Loss = 0.839989185333252\n",
      "Epoch 41 Iteration 20: Loss = 0.8338792324066162\n",
      "Epoch 41 Iteration 30: Loss = 1.6726582050323486\n",
      "Epoch 41 Iteration 40: Loss = 1.6723053455352783\n",
      "Epoch 41 Iteration 50: Loss = 0.8519927859306335\n"
     ]
    },
    {
     "name": "stderr",
     "output_type": "stream",
     "text": [
      "100%|██████████| 59/59 [00:01<00:00, 58.58it/s]\n",
      "100%|██████████| 26/26 [00:00<00:00, 59.93it/s]\n"
     ]
    },
    {
     "name": "stdout",
     "output_type": "stream",
     "text": [
      "Computing accuracy\n",
      "Test set accuracy (Precision@1) = 0.8451053283767038\n",
      "Epoch 42 Iteration 0: Loss = 0.8739990592002869\n",
      "Epoch 42 Iteration 10: Loss = 0.8535701036453247\n",
      "Epoch 42 Iteration 20: Loss = 1.7184271812438965\n",
      "Epoch 42 Iteration 30: Loss = 1.7080647945404053\n",
      "Epoch 42 Iteration 40: Loss = 0.8496013879776001\n",
      "Epoch 42 Iteration 50: Loss = 0.8289676904678345\n"
     ]
    },
    {
     "name": "stderr",
     "output_type": "stream",
     "text": [
      "100%|██████████| 59/59 [00:01<00:00, 57.57it/s]\n",
      "100%|██████████| 26/26 [00:00<00:00, 61.28it/s]\n"
     ]
    },
    {
     "name": "stdout",
     "output_type": "stream",
     "text": [
      "Computing accuracy\n",
      "Test set accuracy (Precision@1) = 0.8636926889714994\n",
      "Epoch 43 Iteration 0: Loss = 0.8503095507621765\n",
      "Epoch 43 Iteration 10: Loss = 0.8295658826828003\n",
      "Epoch 43 Iteration 20: Loss = 0.8415293097496033\n",
      "Epoch 43 Iteration 30: Loss = 0.8429092168807983\n",
      "Epoch 43 Iteration 40: Loss = 0.8357500433921814\n",
      "Epoch 43 Iteration 50: Loss = 0.8187262415885925\n"
     ]
    },
    {
     "name": "stderr",
     "output_type": "stream",
     "text": [
      "100%|██████████| 59/59 [00:01<00:00, 52.67it/s]\n",
      "100%|██████████| 26/26 [00:00<00:00, 60.28it/s]\n"
     ]
    },
    {
     "name": "stdout",
     "output_type": "stream",
     "text": [
      "Computing accuracy\n",
      "Test set accuracy (Precision@1) = 0.8711276332094176\n",
      "Epoch 44 Iteration 0: Loss = 0.8344024419784546\n",
      "Epoch 44 Iteration 10: Loss = 0.8247071504592896\n",
      "Epoch 44 Iteration 20: Loss = 0.8375856280326843\n",
      "Epoch 44 Iteration 30: Loss = 0.8234258890151978\n",
      "Epoch 44 Iteration 40: Loss = 0.867626428604126\n",
      "Epoch 44 Iteration 50: Loss = 0.8128969073295593\n"
     ]
    },
    {
     "name": "stderr",
     "output_type": "stream",
     "text": [
      "100%|██████████| 59/59 [00:01<00:00, 57.83it/s]\n",
      "100%|██████████| 26/26 [00:00<00:00, 60.22it/s]\n"
     ]
    },
    {
     "name": "stdout",
     "output_type": "stream",
     "text": [
      "Computing accuracy\n",
      "Test set accuracy (Precision@1) = 0.8327137546468402\n",
      "Epoch 45 Iteration 0: Loss = 0.8356786370277405\n",
      "Epoch 45 Iteration 10: Loss = 0.8575447797775269\n",
      "Epoch 45 Iteration 20: Loss = 0.8254426717758179\n",
      "Epoch 45 Iteration 30: Loss = 0.8636595606803894\n",
      "Epoch 45 Iteration 40: Loss = 0.861221969127655\n",
      "Epoch 45 Iteration 50: Loss = 0.8349374532699585\n"
     ]
    },
    {
     "name": "stderr",
     "output_type": "stream",
     "text": [
      "100%|██████████| 59/59 [00:01<00:00, 52.49it/s]\n",
      "100%|██████████| 26/26 [00:00<00:00, 56.79it/s]\n"
     ]
    },
    {
     "name": "stdout",
     "output_type": "stream",
     "text": [
      "Computing accuracy\n",
      "Test set accuracy (Precision@1) = 0.8574969021065676\n",
      "Epoch 46 Iteration 0: Loss = 0.8108978271484375\n",
      "Epoch 46 Iteration 10: Loss = 1.6572999954223633\n",
      "Epoch 46 Iteration 20: Loss = 1.6561532020568848\n",
      "Epoch 46 Iteration 30: Loss = 0.853013813495636\n",
      "Epoch 46 Iteration 40: Loss = 0.8549574017524719\n",
      "Epoch 46 Iteration 50: Loss = 0.8585026264190674\n"
     ]
    },
    {
     "name": "stderr",
     "output_type": "stream",
     "text": [
      "100%|██████████| 59/59 [00:01<00:00, 54.51it/s]\n",
      "100%|██████████| 26/26 [00:00<00:00, 62.54it/s]\n"
     ]
    },
    {
     "name": "stdout",
     "output_type": "stream",
     "text": [
      "Computing accuracy\n",
      "Test set accuracy (Precision@1) = 0.8513011152416357\n",
      "Epoch 47 Iteration 0: Loss = 0.8745367527008057\n",
      "Epoch 47 Iteration 10: Loss = 0.8025376200675964\n",
      "Epoch 47 Iteration 20: Loss = 0.9090780019760132\n",
      "Epoch 47 Iteration 30: Loss = 0.8055660724639893\n",
      "Epoch 47 Iteration 40: Loss = 1.745343804359436\n",
      "Epoch 47 Iteration 50: Loss = 0.8247615694999695\n"
     ]
    },
    {
     "name": "stderr",
     "output_type": "stream",
     "text": [
      "100%|██████████| 59/59 [00:01<00:00, 56.12it/s]\n",
      "100%|██████████| 26/26 [00:00<00:00, 60.90it/s]\n"
     ]
    },
    {
     "name": "stdout",
     "output_type": "stream",
     "text": [
      "Computing accuracy\n",
      "Test set accuracy (Precision@1) = 0.8302354399008675\n",
      "Epoch 48 Iteration 0: Loss = 0.8162848949432373\n",
      "Epoch 48 Iteration 10: Loss = 1.6899313926696777\n",
      "Epoch 48 Iteration 20: Loss = 0.8438169360160828\n",
      "Epoch 48 Iteration 30: Loss = 0.8503753542900085\n",
      "Epoch 48 Iteration 40: Loss = 0.8485990762710571\n",
      "Epoch 48 Iteration 50: Loss = 1.6709425449371338\n"
     ]
    },
    {
     "name": "stderr",
     "output_type": "stream",
     "text": [
      "100%|██████████| 59/59 [00:01<00:00, 52.30it/s]\n",
      "100%|██████████| 26/26 [00:00<00:00, 55.35it/s]\n"
     ]
    },
    {
     "name": "stdout",
     "output_type": "stream",
     "text": [
      "Computing accuracy\n",
      "Test set accuracy (Precision@1) = 0.8686493184634448\n",
      "Epoch 49 Iteration 0: Loss = 0.8690953254699707\n",
      "Epoch 49 Iteration 10: Loss = 0.8614253997802734\n",
      "Epoch 49 Iteration 20: Loss = 0.8321449756622314\n",
      "Epoch 49 Iteration 30: Loss = 0.9002389311790466\n",
      "Epoch 49 Iteration 40: Loss = 1.7737560272216797\n",
      "Epoch 49 Iteration 50: Loss = 0.8324138522148132\n"
     ]
    },
    {
     "name": "stderr",
     "output_type": "stream",
     "text": [
      "100%|██████████| 59/59 [00:01<00:00, 55.61it/s]\n",
      "100%|██████████| 26/26 [00:00<00:00, 60.38it/s]\n"
     ]
    },
    {
     "name": "stdout",
     "output_type": "stream",
     "text": [
      "Computing accuracy\n",
      "Test set accuracy (Precision@1) = 0.8426270136307311\n",
      "Epoch 50 Iteration 0: Loss = 1.688321828842163\n",
      "Epoch 50 Iteration 10: Loss = 0.8477237820625305\n",
      "Epoch 50 Iteration 20: Loss = 0.851516604423523\n",
      "Epoch 50 Iteration 30: Loss = 0.8681679964065552\n",
      "Epoch 50 Iteration 40: Loss = 0.8252323865890503\n",
      "Epoch 50 Iteration 50: Loss = 1.650986909866333\n"
     ]
    },
    {
     "name": "stderr",
     "output_type": "stream",
     "text": [
      "100%|██████████| 59/59 [00:01<00:00, 55.89it/s]\n",
      "100%|██████████| 26/26 [00:00<00:00, 54.39it/s]\n"
     ]
    },
    {
     "name": "stdout",
     "output_type": "stream",
     "text": [
      "Computing accuracy\n",
      "Test set accuracy (Precision@1) = 0.8562577447335812\n",
      "Epoch 51 Iteration 0: Loss = 0.8194519281387329\n",
      "Epoch 51 Iteration 10: Loss = 0.8468257188796997\n",
      "Epoch 51 Iteration 20: Loss = 0.0\n",
      "Epoch 51 Iteration 30: Loss = 0.9187132716178894\n",
      "Epoch 51 Iteration 40: Loss = 0.813607394695282\n",
      "Epoch 51 Iteration 50: Loss = 1.6980912685394287\n"
     ]
    },
    {
     "name": "stderr",
     "output_type": "stream",
     "text": [
      "100%|██████████| 59/59 [00:01<00:00, 57.61it/s]\n",
      "100%|██████████| 26/26 [00:00<00:00, 61.22it/s]\n"
     ]
    },
    {
     "name": "stdout",
     "output_type": "stream",
     "text": [
      "Computing accuracy\n",
      "Test set accuracy (Precision@1) = 0.8426270136307311\n",
      "Epoch 52 Iteration 0: Loss = 0.819191575050354\n",
      "Epoch 52 Iteration 10: Loss = 0.8421949744224548\n",
      "Epoch 52 Iteration 20: Loss = 0.8425486087799072\n",
      "Epoch 52 Iteration 30: Loss = 0.9158264398574829\n",
      "Epoch 52 Iteration 40: Loss = 1.742582082748413\n",
      "Epoch 52 Iteration 50: Loss = 0.8388897776603699\n"
     ]
    },
    {
     "name": "stderr",
     "output_type": "stream",
     "text": [
      "100%|██████████| 59/59 [00:01<00:00, 56.28it/s]\n",
      "100%|██████████| 26/26 [00:00<00:00, 55.73it/s]\n"
     ]
    },
    {
     "name": "stdout",
     "output_type": "stream",
     "text": [
      "Computing accuracy\n",
      "Test set accuracy (Precision@1) = 0.8550185873605948\n",
      "Epoch 53 Iteration 0: Loss = 0.8204435110092163\n",
      "Epoch 53 Iteration 10: Loss = 1.8799744844436646\n",
      "Epoch 53 Iteration 20: Loss = 0.8552842140197754\n",
      "Epoch 53 Iteration 30: Loss = 0.856959342956543\n",
      "Epoch 53 Iteration 40: Loss = 1.6687183380126953\n",
      "Epoch 53 Iteration 50: Loss = 0.8358384370803833\n"
     ]
    },
    {
     "name": "stderr",
     "output_type": "stream",
     "text": [
      "100%|██████████| 59/59 [00:01<00:00, 56.75it/s]\n",
      "100%|██████████| 26/26 [00:00<00:00, 58.84it/s]\n"
     ]
    },
    {
     "name": "stdout",
     "output_type": "stream",
     "text": [
      "Computing accuracy\n",
      "Test set accuracy (Precision@1) = 0.8562577447335812\n",
      "Epoch 54 Iteration 0: Loss = 0.0\n",
      "Epoch 54 Iteration 10: Loss = 0.8227896690368652\n",
      "Epoch 54 Iteration 20: Loss = 0.8356146812438965\n",
      "Epoch 54 Iteration 30: Loss = 1.736573576927185\n",
      "Epoch 54 Iteration 40: Loss = 0.8309663534164429\n",
      "Epoch 54 Iteration 50: Loss = 0.8106826543807983\n"
     ]
    },
    {
     "name": "stderr",
     "output_type": "stream",
     "text": [
      "100%|██████████| 59/59 [00:01<00:00, 53.37it/s]\n",
      "100%|██████████| 26/26 [00:00<00:00, 57.86it/s]\n"
     ]
    },
    {
     "name": "stdout",
     "output_type": "stream",
     "text": [
      "Computing accuracy\n",
      "Test set accuracy (Precision@1) = 0.8513011152416357\n",
      "Epoch 55 Iteration 0: Loss = 0.8361332416534424\n",
      "Epoch 55 Iteration 10: Loss = 0.837975025177002\n",
      "Epoch 55 Iteration 20: Loss = 0.8297340273857117\n",
      "Epoch 55 Iteration 30: Loss = 1.6601817607879639\n",
      "Epoch 55 Iteration 40: Loss = 1.837719202041626\n",
      "Epoch 55 Iteration 50: Loss = 0.8417569994926453\n"
     ]
    },
    {
     "name": "stderr",
     "output_type": "stream",
     "text": [
      "100%|██████████| 59/59 [00:01<00:00, 56.38it/s]\n",
      "100%|██████████| 26/26 [00:00<00:00, 60.16it/s]\n"
     ]
    },
    {
     "name": "stdout",
     "output_type": "stream",
     "text": [
      "Computing accuracy\n",
      "Test set accuracy (Precision@1) = 0.8562577447335812\n",
      "Epoch 56 Iteration 0: Loss = 1.6842846870422363\n",
      "Epoch 56 Iteration 10: Loss = 1.6997519731521606\n",
      "Epoch 56 Iteration 20: Loss = 0.8235365152359009\n",
      "Epoch 56 Iteration 30: Loss = 0.8197514414787292\n",
      "Epoch 56 Iteration 40: Loss = 0.863050103187561\n",
      "Epoch 56 Iteration 50: Loss = 0.8545788526535034\n"
     ]
    },
    {
     "name": "stderr",
     "output_type": "stream",
     "text": [
      "100%|██████████| 59/59 [00:01<00:00, 52.84it/s]\n",
      "100%|██████████| 26/26 [00:00<00:00, 57.90it/s]\n"
     ]
    },
    {
     "name": "stdout",
     "output_type": "stream",
     "text": [
      "Computing accuracy\n",
      "Test set accuracy (Precision@1) = 0.8513011152416357\n",
      "Epoch 57 Iteration 0: Loss = 0.8277668952941895\n",
      "Epoch 57 Iteration 10: Loss = 0.8295552730560303\n",
      "Epoch 57 Iteration 20: Loss = 1.6914405822753906\n",
      "Epoch 57 Iteration 30: Loss = 0.0\n",
      "Epoch 57 Iteration 40: Loss = 0.8607600927352905\n",
      "Epoch 57 Iteration 50: Loss = 0.8588814735412598\n"
     ]
    },
    {
     "name": "stderr",
     "output_type": "stream",
     "text": [
      "100%|██████████| 59/59 [00:01<00:00, 52.85it/s]\n",
      "100%|██████████| 26/26 [00:00<00:00, 58.52it/s]\n"
     ]
    },
    {
     "name": "stdout",
     "output_type": "stream",
     "text": [
      "Computing accuracy\n",
      "Test set accuracy (Precision@1) = 0.8537794299876085\n",
      "Epoch 58 Iteration 0: Loss = 0.8771432638168335\n",
      "Epoch 58 Iteration 10: Loss = 0.861134946346283\n",
      "Epoch 58 Iteration 20: Loss = 0.0\n",
      "Epoch 58 Iteration 30: Loss = 0.8697028160095215\n",
      "Epoch 58 Iteration 40: Loss = 0.8358848094940186\n",
      "Epoch 58 Iteration 50: Loss = 1.663956880569458\n"
     ]
    },
    {
     "name": "stderr",
     "output_type": "stream",
     "text": [
      "100%|██████████| 59/59 [00:01<00:00, 54.31it/s]\n",
      "100%|██████████| 26/26 [00:00<00:00, 55.20it/s]\n"
     ]
    },
    {
     "name": "stdout",
     "output_type": "stream",
     "text": [
      "Computing accuracy\n",
      "Test set accuracy (Precision@1) = 0.8463444857496902\n",
      "Epoch 59 Iteration 0: Loss = 0.8570162057876587\n",
      "Epoch 59 Iteration 10: Loss = 0.8476691246032715\n",
      "Epoch 59 Iteration 20: Loss = 1.6664742231369019\n",
      "Epoch 59 Iteration 30: Loss = 0.8394988775253296\n",
      "Epoch 59 Iteration 40: Loss = 0.0\n",
      "Epoch 59 Iteration 50: Loss = 0.9091934561729431\n"
     ]
    },
    {
     "name": "stderr",
     "output_type": "stream",
     "text": [
      "100%|██████████| 59/59 [00:01<00:00, 56.91it/s]\n",
      "100%|██████████| 26/26 [00:00<00:00, 61.72it/s]\n"
     ]
    },
    {
     "name": "stdout",
     "output_type": "stream",
     "text": [
      "Computing accuracy\n",
      "Test set accuracy (Precision@1) = 0.8426270136307311\n",
      "Epoch 60 Iteration 0: Loss = 0.0\n",
      "Epoch 60 Iteration 10: Loss = 1.8166799545288086\n",
      "Epoch 60 Iteration 20: Loss = 0.851127028465271\n",
      "Epoch 60 Iteration 30: Loss = 0.8078558444976807\n",
      "Epoch 60 Iteration 40: Loss = 0.8305954933166504\n",
      "Epoch 60 Iteration 50: Loss = 0.8274858593940735\n"
     ]
    },
    {
     "name": "stderr",
     "output_type": "stream",
     "text": [
      "100%|██████████| 59/59 [00:01<00:00, 54.69it/s]\n",
      "100%|██████████| 26/26 [00:00<00:00, 58.01it/s]\n"
     ]
    },
    {
     "name": "stdout",
     "output_type": "stream",
     "text": [
      "Computing accuracy\n",
      "Test set accuracy (Precision@1) = 0.872366790582404\n",
      "Epoch 61 Iteration 0: Loss = 0.8441880941390991\n",
      "Epoch 61 Iteration 10: Loss = 0.8835495710372925\n",
      "Epoch 61 Iteration 20: Loss = 1.6766071319580078\n",
      "Epoch 61 Iteration 30: Loss = 0.8539943695068359\n",
      "Epoch 61 Iteration 40: Loss = 0.8444361090660095\n",
      "Epoch 61 Iteration 50: Loss = 1.816739559173584\n"
     ]
    },
    {
     "name": "stderr",
     "output_type": "stream",
     "text": [
      "100%|██████████| 59/59 [00:01<00:00, 57.04it/s]\n",
      "100%|██████████| 26/26 [00:00<00:00, 61.33it/s]\n"
     ]
    },
    {
     "name": "stdout",
     "output_type": "stream",
     "text": [
      "Computing accuracy\n",
      "Test set accuracy (Precision@1) = 0.8426270136307311\n",
      "Epoch 62 Iteration 0: Loss = 0.0\n",
      "Epoch 62 Iteration 10: Loss = 0.866000771522522\n",
      "Epoch 62 Iteration 20: Loss = 0.834735095500946\n",
      "Epoch 62 Iteration 30: Loss = 0.8371480703353882\n",
      "Epoch 62 Iteration 40: Loss = 0.8285524249076843\n",
      "Epoch 62 Iteration 50: Loss = 0.8503279089927673\n"
     ]
    },
    {
     "name": "stderr",
     "output_type": "stream",
     "text": [
      "100%|██████████| 59/59 [00:01<00:00, 57.37it/s]\n",
      "100%|██████████| 26/26 [00:00<00:00, 62.09it/s]\n"
     ]
    },
    {
     "name": "stdout",
     "output_type": "stream",
     "text": [
      "Computing accuracy\n",
      "Test set accuracy (Precision@1) = 0.862453531598513\n",
      "Epoch 63 Iteration 0: Loss = 0.8339866399765015\n",
      "Epoch 63 Iteration 10: Loss = 1.680552363395691\n",
      "Epoch 63 Iteration 20: Loss = 1.6428730487823486\n",
      "Epoch 63 Iteration 30: Loss = 0.8654329180717468\n",
      "Epoch 63 Iteration 40: Loss = 0.8213518261909485\n",
      "Epoch 63 Iteration 50: Loss = 0.8534611463546753\n"
     ]
    },
    {
     "name": "stderr",
     "output_type": "stream",
     "text": [
      "100%|██████████| 59/59 [00:01<00:00, 53.70it/s]\n",
      "100%|██████████| 26/26 [00:00<00:00, 54.40it/s]\n"
     ]
    },
    {
     "name": "stdout",
     "output_type": "stream",
     "text": [
      "Computing accuracy\n",
      "Test set accuracy (Precision@1) = 0.8513011152416357\n",
      "Epoch 64 Iteration 0: Loss = 0.8564526438713074\n",
      "Epoch 64 Iteration 10: Loss = 0.8069704174995422\n",
      "Epoch 64 Iteration 20: Loss = 0.8362571001052856\n",
      "Epoch 64 Iteration 30: Loss = 0.8439879417419434\n",
      "Epoch 64 Iteration 40: Loss = 0.808472752571106\n",
      "Epoch 64 Iteration 50: Loss = 1.7218157052993774\n"
     ]
    },
    {
     "name": "stderr",
     "output_type": "stream",
     "text": [
      "100%|██████████| 59/59 [00:01<00:00, 52.76it/s]\n",
      "100%|██████████| 26/26 [00:00<00:00, 58.41it/s]\n"
     ]
    },
    {
     "name": "stdout",
     "output_type": "stream",
     "text": [
      "Computing accuracy\n",
      "Test set accuracy (Precision@1) = 0.8426270136307311\n",
      "Epoch 65 Iteration 0: Loss = 0.8210064172744751\n",
      "Epoch 65 Iteration 10: Loss = 1.7582318782806396\n",
      "Epoch 65 Iteration 20: Loss = 0.84637850522995\n",
      "Epoch 65 Iteration 30: Loss = 1.740344762802124\n",
      "Epoch 65 Iteration 40: Loss = 0.8291971683502197\n",
      "Epoch 65 Iteration 50: Loss = 0.8557443022727966\n"
     ]
    },
    {
     "name": "stderr",
     "output_type": "stream",
     "text": [
      "100%|██████████| 59/59 [00:01<00:00, 53.84it/s]\n",
      "100%|██████████| 26/26 [00:00<00:00, 57.50it/s]\n"
     ]
    },
    {
     "name": "stdout",
     "output_type": "stream",
     "text": [
      "Computing accuracy\n",
      "Test set accuracy (Precision@1) = 0.8228004956629492\n",
      "Epoch 66 Iteration 0: Loss = 0.8335153460502625\n",
      "Epoch 66 Iteration 10: Loss = 0.8468044996261597\n",
      "Epoch 66 Iteration 20: Loss = 1.7538186311721802\n",
      "Epoch 66 Iteration 30: Loss = 1.6900551319122314\n",
      "Epoch 66 Iteration 40: Loss = 0.81157386302948\n",
      "Epoch 66 Iteration 50: Loss = 0.8232448101043701\n"
     ]
    },
    {
     "name": "stderr",
     "output_type": "stream",
     "text": [
      "100%|██████████| 59/59 [00:01<00:00, 57.93it/s]\n",
      "100%|██████████| 26/26 [00:00<00:00, 59.56it/s]\n"
     ]
    },
    {
     "name": "stdout",
     "output_type": "stream",
     "text": [
      "Computing accuracy\n",
      "Test set accuracy (Precision@1) = 0.8327137546468402\n",
      "Epoch 67 Iteration 0: Loss = 1.7357522249221802\n",
      "Epoch 67 Iteration 10: Loss = 0.8595247268676758\n",
      "Epoch 67 Iteration 20: Loss = 0.8735216856002808\n",
      "Epoch 67 Iteration 30: Loss = 0.8231523036956787\n",
      "Epoch 67 Iteration 40: Loss = 0.8572648763656616\n",
      "Epoch 67 Iteration 50: Loss = 0.8794676065444946\n"
     ]
    },
    {
     "name": "stderr",
     "output_type": "stream",
     "text": [
      "100%|██████████| 59/59 [00:01<00:00, 54.26it/s]\n",
      "100%|██████████| 26/26 [00:00<00:00, 59.68it/s]\n"
     ]
    },
    {
     "name": "stdout",
     "output_type": "stream",
     "text": [
      "Computing accuracy\n",
      "Test set accuracy (Precision@1) = 0.8636926889714994\n",
      "Epoch 68 Iteration 0: Loss = 0.8098911643028259\n",
      "Epoch 68 Iteration 10: Loss = 0.8356643915176392\n",
      "Epoch 68 Iteration 20: Loss = 0.8601135015487671\n",
      "Epoch 68 Iteration 30: Loss = 0.801957368850708\n",
      "Epoch 68 Iteration 40: Loss = 1.749135136604309\n",
      "Epoch 68 Iteration 50: Loss = 0.8685674071311951\n"
     ]
    },
    {
     "name": "stderr",
     "output_type": "stream",
     "text": [
      "100%|██████████| 59/59 [00:01<00:00, 56.98it/s]\n",
      "100%|██████████| 26/26 [00:00<00:00, 60.05it/s]\n"
     ]
    },
    {
     "name": "stdout",
     "output_type": "stream",
     "text": [
      "Computing accuracy\n",
      "Test set accuracy (Precision@1) = 0.8401486988847584\n",
      "Epoch 69 Iteration 0: Loss = 0.8529385328292847\n",
      "Epoch 69 Iteration 10: Loss = 1.8231518268585205\n",
      "Epoch 69 Iteration 20: Loss = 0.8260149955749512\n",
      "Epoch 69 Iteration 30: Loss = 1.7392754554748535\n",
      "Epoch 69 Iteration 40: Loss = 1.650773286819458\n",
      "Epoch 69 Iteration 50: Loss = 1.7149913311004639\n"
     ]
    },
    {
     "name": "stderr",
     "output_type": "stream",
     "text": [
      "100%|██████████| 59/59 [00:01<00:00, 52.42it/s]\n",
      "100%|██████████| 26/26 [00:00<00:00, 61.74it/s]\n"
     ]
    },
    {
     "name": "stdout",
     "output_type": "stream",
     "text": [
      "Computing accuracy\n",
      "Test set accuracy (Precision@1) = 0.8537794299876085\n",
      "Epoch 70 Iteration 0: Loss = 0.8255624771118164\n",
      "Epoch 70 Iteration 10: Loss = 1.7146104574203491\n",
      "Epoch 70 Iteration 20: Loss = 0.8313120007514954\n",
      "Epoch 70 Iteration 30: Loss = 0.8560779690742493\n",
      "Epoch 70 Iteration 40: Loss = 0.8293228149414062\n",
      "Epoch 70 Iteration 50: Loss = 0.8539193272590637\n"
     ]
    },
    {
     "name": "stderr",
     "output_type": "stream",
     "text": [
      "100%|██████████| 59/59 [00:01<00:00, 56.96it/s]\n",
      "100%|██████████| 26/26 [00:00<00:00, 59.63it/s]\n"
     ]
    },
    {
     "name": "stdout",
     "output_type": "stream",
     "text": [
      "Computing accuracy\n",
      "Test set accuracy (Precision@1) = 0.8587360594795539\n",
      "Epoch 71 Iteration 0: Loss = 0.8453189730644226\n",
      "Epoch 71 Iteration 10: Loss = 0.8395646214485168\n",
      "Epoch 71 Iteration 20: Loss = 0.8465865850448608\n",
      "Epoch 71 Iteration 30: Loss = 0.8493544459342957\n",
      "Epoch 71 Iteration 40: Loss = 0.846645176410675\n",
      "Epoch 71 Iteration 50: Loss = 0.8057301044464111\n"
     ]
    },
    {
     "name": "stderr",
     "output_type": "stream",
     "text": [
      "100%|██████████| 59/59 [00:01<00:00, 56.06it/s]\n",
      "100%|██████████| 26/26 [00:00<00:00, 55.58it/s]\n"
     ]
    },
    {
     "name": "stdout",
     "output_type": "stream",
     "text": [
      "Computing accuracy\n",
      "Test set accuracy (Precision@1) = 0.8525402726146221\n",
      "Epoch 72 Iteration 0: Loss = 0.8448445200920105\n",
      "Epoch 72 Iteration 10: Loss = 1.7090984582901\n",
      "Epoch 72 Iteration 20: Loss = 0.859520435333252\n",
      "Epoch 72 Iteration 30: Loss = 0.8802799582481384\n",
      "Epoch 72 Iteration 40: Loss = 0.8641959428787231\n",
      "Epoch 72 Iteration 50: Loss = 0.8462182879447937\n"
     ]
    },
    {
     "name": "stderr",
     "output_type": "stream",
     "text": [
      "100%|██████████| 59/59 [00:01<00:00, 55.77it/s]\n",
      "100%|██████████| 26/26 [00:00<00:00, 59.69it/s]\n"
     ]
    },
    {
     "name": "stdout",
     "output_type": "stream",
     "text": [
      "Computing accuracy\n",
      "Test set accuracy (Precision@1) = 0.8599752168525403\n",
      "Epoch 73 Iteration 0: Loss = 0.8676717877388\n",
      "Epoch 73 Iteration 10: Loss = 0.8014507293701172\n",
      "Epoch 73 Iteration 20: Loss = 0.8587627410888672\n",
      "Epoch 73 Iteration 30: Loss = 0.8376458287239075\n",
      "Epoch 73 Iteration 40: Loss = 0.8580385446548462\n",
      "Epoch 73 Iteration 50: Loss = 0.8495879173278809\n"
     ]
    },
    {
     "name": "stderr",
     "output_type": "stream",
     "text": [
      "100%|██████████| 59/59 [00:01<00:00, 55.17it/s]\n",
      "100%|██████████| 26/26 [00:00<00:00, 57.81it/s]\n"
     ]
    },
    {
     "name": "stdout",
     "output_type": "stream",
     "text": [
      "Computing accuracy\n",
      "Test set accuracy (Precision@1) = 0.8698884758364313\n",
      "Epoch 74 Iteration 0: Loss = 0.8690364360809326\n",
      "Epoch 74 Iteration 10: Loss = 1.7550759315490723\n",
      "Epoch 74 Iteration 20: Loss = 0.845582127571106\n",
      "Epoch 74 Iteration 30: Loss = 0.0\n",
      "Epoch 74 Iteration 40: Loss = 0.8542954325675964\n",
      "Epoch 74 Iteration 50: Loss = 0.8518486022949219\n"
     ]
    },
    {
     "name": "stderr",
     "output_type": "stream",
     "text": [
      "100%|██████████| 59/59 [00:01<00:00, 52.10it/s]\n",
      "100%|██████████| 26/26 [00:00<00:00, 58.07it/s]\n"
     ]
    },
    {
     "name": "stdout",
     "output_type": "stream",
     "text": [
      "Computing accuracy\n",
      "Test set accuracy (Precision@1) = 0.8612143742255266\n",
      "Epoch 75 Iteration 0: Loss = 0.8457152843475342\n",
      "Epoch 75 Iteration 10: Loss = 0.8586425185203552\n",
      "Epoch 75 Iteration 20: Loss = 0.8313926458358765\n",
      "Epoch 75 Iteration 30: Loss = 0.8433607220649719\n",
      "Epoch 75 Iteration 40: Loss = 0.8084608316421509\n",
      "Epoch 75 Iteration 50: Loss = 0.8595728874206543\n"
     ]
    },
    {
     "name": "stderr",
     "output_type": "stream",
     "text": [
      "100%|██████████| 59/59 [00:01<00:00, 55.06it/s]\n",
      "100%|██████████| 26/26 [00:00<00:00, 58.00it/s]\n"
     ]
    },
    {
     "name": "stdout",
     "output_type": "stream",
     "text": [
      "Computing accuracy\n",
      "Test set accuracy (Precision@1) = 0.8537794299876085\n",
      "Epoch 76 Iteration 0: Loss = 0.8081642985343933\n",
      "Epoch 76 Iteration 10: Loss = 1.6384809017181396\n",
      "Epoch 76 Iteration 20: Loss = 0.8429940938949585\n",
      "Epoch 76 Iteration 30: Loss = 0.9162019491195679\n",
      "Epoch 76 Iteration 40: Loss = 0.8219833374023438\n",
      "Epoch 76 Iteration 50: Loss = 0.8831897974014282\n"
     ]
    },
    {
     "name": "stderr",
     "output_type": "stream",
     "text": [
      "100%|██████████| 59/59 [00:01<00:00, 57.10it/s]\n",
      "100%|██████████| 26/26 [00:00<00:00, 60.44it/s]\n"
     ]
    },
    {
     "name": "stdout",
     "output_type": "stream",
     "text": [
      "Computing accuracy\n",
      "Test set accuracy (Precision@1) = 0.8475836431226766\n",
      "Epoch 77 Iteration 0: Loss = 0.8742985129356384\n",
      "Epoch 77 Iteration 10: Loss = 0.8339844942092896\n",
      "Epoch 77 Iteration 20: Loss = 0.8153822422027588\n",
      "Epoch 77 Iteration 30: Loss = 1.6504542827606201\n",
      "Epoch 77 Iteration 40: Loss = 0.8300487995147705\n",
      "Epoch 77 Iteration 50: Loss = 0.8324803709983826\n"
     ]
    },
    {
     "name": "stderr",
     "output_type": "stream",
     "text": [
      "100%|██████████| 59/59 [00:01<00:00, 53.88it/s]\n",
      "100%|██████████| 26/26 [00:00<00:00, 54.98it/s]\n"
     ]
    },
    {
     "name": "stdout",
     "output_type": "stream",
     "text": [
      "Computing accuracy\n",
      "Test set accuracy (Precision@1) = 0.8475836431226766\n",
      "Epoch 78 Iteration 0: Loss = 0.8436760902404785\n",
      "Epoch 78 Iteration 10: Loss = 0.8351303935050964\n",
      "Epoch 78 Iteration 20: Loss = 0.8205013275146484\n",
      "Epoch 78 Iteration 30: Loss = 1.7118792533874512\n",
      "Epoch 78 Iteration 40: Loss = 0.852965772151947\n",
      "Epoch 78 Iteration 50: Loss = 0.8370962738990784\n"
     ]
    },
    {
     "name": "stderr",
     "output_type": "stream",
     "text": [
      "100%|██████████| 59/59 [00:01<00:00, 54.03it/s]\n",
      "100%|██████████| 26/26 [00:00<00:00, 59.48it/s]\n"
     ]
    },
    {
     "name": "stdout",
     "output_type": "stream",
     "text": [
      "Computing accuracy\n",
      "Test set accuracy (Precision@1) = 0.8413878562577447\n",
      "Epoch 79 Iteration 0: Loss = 0.8756190538406372\n",
      "Epoch 79 Iteration 10: Loss = 0.8319545984268188\n",
      "Epoch 79 Iteration 20: Loss = 0.858718752861023\n",
      "Epoch 79 Iteration 30: Loss = 0.8733307719230652\n",
      "Epoch 79 Iteration 40: Loss = 0.8616541624069214\n",
      "Epoch 79 Iteration 50: Loss = 0.8244656920433044\n"
     ]
    },
    {
     "name": "stderr",
     "output_type": "stream",
     "text": [
      "100%|██████████| 59/59 [00:01<00:00, 52.82it/s]\n",
      "100%|██████████| 26/26 [00:00<00:00, 54.33it/s]\n"
     ]
    },
    {
     "name": "stdout",
     "output_type": "stream",
     "text": [
      "Computing accuracy\n",
      "Test set accuracy (Precision@1) = 0.838909541511772\n",
      "Epoch 80 Iteration 0: Loss = 0.8318221569061279\n",
      "Epoch 80 Iteration 10: Loss = 0.0\n",
      "Epoch 80 Iteration 20: Loss = 0.8063235282897949\n",
      "Epoch 80 Iteration 30: Loss = 0.8039259910583496\n",
      "Epoch 80 Iteration 40: Loss = 0.8503915071487427\n",
      "Epoch 80 Iteration 50: Loss = 0.8515548706054688\n"
     ]
    },
    {
     "name": "stderr",
     "output_type": "stream",
     "text": [
      "100%|██████████| 59/59 [00:01<00:00, 55.85it/s]\n",
      "100%|██████████| 26/26 [00:00<00:00, 57.68it/s]\n"
     ]
    },
    {
     "name": "stdout",
     "output_type": "stream",
     "text": [
      "Computing accuracy\n",
      "Test set accuracy (Precision@1) = 0.8438661710037175\n",
      "Epoch 81 Iteration 0: Loss = 0.8516666293144226\n",
      "Epoch 81 Iteration 10: Loss = 0.846172571182251\n",
      "Epoch 81 Iteration 20: Loss = 1.7040950059890747\n",
      "Epoch 81 Iteration 30: Loss = 0.8248399496078491\n",
      "Epoch 81 Iteration 40: Loss = 0.868512749671936\n",
      "Epoch 81 Iteration 50: Loss = 0.8417869210243225\n"
     ]
    },
    {
     "name": "stderr",
     "output_type": "stream",
     "text": [
      "100%|██████████| 59/59 [00:01<00:00, 54.85it/s]\n",
      "100%|██████████| 26/26 [00:00<00:00, 59.57it/s]\n"
     ]
    },
    {
     "name": "stdout",
     "output_type": "stream",
     "text": [
      "Computing accuracy\n",
      "Test set accuracy (Precision@1) = 0.8475836431226766\n",
      "Epoch 82 Iteration 0: Loss = 0.8479777574539185\n",
      "Epoch 82 Iteration 10: Loss = 0.8421148061752319\n",
      "Epoch 82 Iteration 20: Loss = 0.8380489349365234\n",
      "Epoch 82 Iteration 30: Loss = 0.8370283842086792\n",
      "Epoch 82 Iteration 40: Loss = 0.8249530792236328\n",
      "Epoch 82 Iteration 50: Loss = 0.8553330302238464\n"
     ]
    },
    {
     "name": "stderr",
     "output_type": "stream",
     "text": [
      "100%|██████████| 59/59 [00:01<00:00, 53.93it/s]\n",
      "100%|██████████| 26/26 [00:00<00:00, 58.23it/s]\n"
     ]
    },
    {
     "name": "stdout",
     "output_type": "stream",
     "text": [
      "Computing accuracy\n",
      "Test set accuracy (Precision@1) = 0.8550185873605948\n",
      "Epoch 83 Iteration 0: Loss = 1.6586288213729858\n",
      "Epoch 83 Iteration 10: Loss = 0.8417187929153442\n",
      "Epoch 83 Iteration 20: Loss = 0.8658905029296875\n",
      "Epoch 83 Iteration 30: Loss = 1.740412712097168\n",
      "Epoch 83 Iteration 40: Loss = 0.8373113870620728\n",
      "Epoch 83 Iteration 50: Loss = 0.8354045748710632\n"
     ]
    },
    {
     "name": "stderr",
     "output_type": "stream",
     "text": [
      "100%|██████████| 59/59 [00:01<00:00, 54.47it/s]\n",
      "100%|██████████| 26/26 [00:00<00:00, 57.78it/s]\n"
     ]
    },
    {
     "name": "stdout",
     "output_type": "stream",
     "text": [
      "Computing accuracy\n",
      "Test set accuracy (Precision@1) = 0.8376703841387856\n",
      "Epoch 84 Iteration 0: Loss = 0.8430566787719727\n",
      "Epoch 84 Iteration 10: Loss = 0.8278433084487915\n",
      "Epoch 84 Iteration 20: Loss = 0.873249888420105\n",
      "Epoch 84 Iteration 30: Loss = 1.7131879329681396\n",
      "Epoch 84 Iteration 40: Loss = 0.8302785158157349\n",
      "Epoch 84 Iteration 50: Loss = 0.8513350486755371\n"
     ]
    },
    {
     "name": "stderr",
     "output_type": "stream",
     "text": [
      "100%|██████████| 59/59 [00:01<00:00, 54.87it/s]\n",
      "100%|██████████| 26/26 [00:00<00:00, 59.45it/s]\n"
     ]
    },
    {
     "name": "stdout",
     "output_type": "stream",
     "text": [
      "Computing accuracy\n",
      "Test set accuracy (Precision@1) = 0.8562577447335812\n",
      "Epoch 85 Iteration 0: Loss = 0.8449088335037231\n",
      "Epoch 85 Iteration 10: Loss = 0.8625917434692383\n",
      "Epoch 85 Iteration 20: Loss = 0.8742561340332031\n",
      "Epoch 85 Iteration 30: Loss = 0.0\n",
      "Epoch 85 Iteration 40: Loss = 0.8348745107650757\n",
      "Epoch 85 Iteration 50: Loss = 0.8801007270812988\n"
     ]
    },
    {
     "name": "stderr",
     "output_type": "stream",
     "text": [
      "100%|██████████| 59/59 [00:01<00:00, 53.99it/s]\n",
      "100%|██████████| 26/26 [00:00<00:00, 58.60it/s]\n"
     ]
    },
    {
     "name": "stdout",
     "output_type": "stream",
     "text": [
      "Computing accuracy\n",
      "Test set accuracy (Precision@1) = 0.8413878562577447\n",
      "Epoch 86 Iteration 0: Loss = 0.8059788346290588\n",
      "Epoch 86 Iteration 10: Loss = 0.8612428903579712\n",
      "Epoch 86 Iteration 20: Loss = 0.0\n",
      "Epoch 86 Iteration 30: Loss = 1.7487413883209229\n",
      "Epoch 86 Iteration 40: Loss = 0.8274989128112793\n",
      "Epoch 86 Iteration 50: Loss = 0.8240713477134705\n"
     ]
    },
    {
     "name": "stderr",
     "output_type": "stream",
     "text": [
      "100%|██████████| 59/59 [00:01<00:00, 56.99it/s]\n",
      "100%|██████████| 26/26 [00:00<00:00, 59.39it/s]\n"
     ]
    },
    {
     "name": "stdout",
     "output_type": "stream",
     "text": [
      "Computing accuracy\n",
      "Test set accuracy (Precision@1) = 0.8463444857496902\n",
      "Epoch 87 Iteration 0: Loss = 0.858568549156189\n",
      "Epoch 87 Iteration 10: Loss = 1.7342745065689087\n",
      "Epoch 87 Iteration 20: Loss = 0.83978670835495\n",
      "Epoch 87 Iteration 30: Loss = 0.8572431802749634\n",
      "Epoch 87 Iteration 40: Loss = 0.8302866816520691\n",
      "Epoch 87 Iteration 50: Loss = 0.8696762323379517\n"
     ]
    },
    {
     "name": "stderr",
     "output_type": "stream",
     "text": [
      "100%|██████████| 59/59 [00:01<00:00, 58.57it/s]\n",
      "100%|██████████| 26/26 [00:00<00:00, 62.13it/s]\n"
     ]
    },
    {
     "name": "stdout",
     "output_type": "stream",
     "text": [
      "Computing accuracy\n",
      "Test set accuracy (Precision@1) = 0.8451053283767038\n",
      "Epoch 88 Iteration 0: Loss = 0.8559083342552185\n",
      "Epoch 88 Iteration 10: Loss = 1.6894850730895996\n",
      "Epoch 88 Iteration 20: Loss = 0.8324108123779297\n",
      "Epoch 88 Iteration 30: Loss = 1.6361323595046997\n",
      "Epoch 88 Iteration 40: Loss = 1.702019214630127\n",
      "Epoch 88 Iteration 50: Loss = 0.8430373668670654\n"
     ]
    },
    {
     "name": "stderr",
     "output_type": "stream",
     "text": [
      "100%|██████████| 59/59 [00:01<00:00, 58.83it/s]\n",
      "100%|██████████| 26/26 [00:00<00:00, 57.72it/s]\n"
     ]
    },
    {
     "name": "stdout",
     "output_type": "stream",
     "text": [
      "Computing accuracy\n",
      "Test set accuracy (Precision@1) = 0.8574969021065676\n",
      "Epoch 89 Iteration 0: Loss = 0.8434388637542725\n",
      "Epoch 89 Iteration 10: Loss = 0.8590474128723145\n",
      "Epoch 89 Iteration 20: Loss = 0.8605090975761414\n",
      "Epoch 89 Iteration 30: Loss = 1.6542860269546509\n",
      "Epoch 89 Iteration 40: Loss = 0.848138689994812\n",
      "Epoch 89 Iteration 50: Loss = 0.8264927268028259\n"
     ]
    },
    {
     "name": "stderr",
     "output_type": "stream",
     "text": [
      "100%|██████████| 59/59 [00:01<00:00, 58.20it/s]\n",
      "100%|██████████| 26/26 [00:00<00:00, 60.63it/s]\n"
     ]
    },
    {
     "name": "stdout",
     "output_type": "stream",
     "text": [
      "Computing accuracy\n",
      "Test set accuracy (Precision@1) = 0.8401486988847584\n",
      "Epoch 90 Iteration 0: Loss = 1.7194193601608276\n",
      "Epoch 90 Iteration 10: Loss = 1.6642802953720093\n",
      "Epoch 90 Iteration 20: Loss = 0.8005896806716919\n",
      "Epoch 90 Iteration 30: Loss = 0.8239020705223083\n",
      "Epoch 90 Iteration 40: Loss = 1.7717097997665405\n",
      "Epoch 90 Iteration 50: Loss = 0.8393377065658569\n"
     ]
    },
    {
     "name": "stderr",
     "output_type": "stream",
     "text": [
      "100%|██████████| 59/59 [00:01<00:00, 57.74it/s]\n",
      "100%|██████████| 26/26 [00:00<00:00, 61.15it/s]\n"
     ]
    },
    {
     "name": "stdout",
     "output_type": "stream",
     "text": [
      "Computing accuracy\n",
      "Test set accuracy (Precision@1) = 0.8513011152416357\n",
      "Epoch 91 Iteration 0: Loss = 1.7706890106201172\n",
      "Epoch 91 Iteration 10: Loss = 0.862250804901123\n",
      "Epoch 91 Iteration 20: Loss = 0.8349050283432007\n",
      "Epoch 91 Iteration 30: Loss = 0.8575202226638794\n",
      "Epoch 91 Iteration 40: Loss = 0.8769233822822571\n",
      "Epoch 91 Iteration 50: Loss = 0.8369749188423157\n"
     ]
    },
    {
     "name": "stderr",
     "output_type": "stream",
     "text": [
      "100%|██████████| 59/59 [00:01<00:00, 55.55it/s]\n",
      "100%|██████████| 26/26 [00:00<00:00, 60.20it/s]\n"
     ]
    },
    {
     "name": "stdout",
     "output_type": "stream",
     "text": [
      "Computing accuracy\n",
      "Test set accuracy (Precision@1) = 0.8587360594795539\n",
      "Epoch 92 Iteration 0: Loss = 0.8336302638053894\n",
      "Epoch 92 Iteration 10: Loss = 0.8230283260345459\n",
      "Epoch 92 Iteration 20: Loss = 0.8206302523612976\n",
      "Epoch 92 Iteration 30: Loss = 1.6219267845153809\n",
      "Epoch 92 Iteration 40: Loss = 0.8493834137916565\n",
      "Epoch 92 Iteration 50: Loss = 0.8055917024612427\n"
     ]
    },
    {
     "name": "stderr",
     "output_type": "stream",
     "text": [
      "100%|██████████| 59/59 [00:01<00:00, 54.80it/s]\n",
      "100%|██████████| 26/26 [00:00<00:00, 57.56it/s]\n"
     ]
    },
    {
     "name": "stdout",
     "output_type": "stream",
     "text": [
      "Computing accuracy\n",
      "Test set accuracy (Precision@1) = 0.8661710037174721\n",
      "Epoch 93 Iteration 0: Loss = 0.8321893811225891\n",
      "Epoch 93 Iteration 10: Loss = 0.8456836938858032\n",
      "Epoch 93 Iteration 20: Loss = 0.0\n",
      "Epoch 93 Iteration 30: Loss = 0.8275684118270874\n",
      "Epoch 93 Iteration 40: Loss = 1.7803246974945068\n",
      "Epoch 93 Iteration 50: Loss = 0.8135609030723572\n"
     ]
    },
    {
     "name": "stderr",
     "output_type": "stream",
     "text": [
      "100%|██████████| 59/59 [00:01<00:00, 56.50it/s]\n",
      "100%|██████████| 26/26 [00:00<00:00, 59.98it/s]\n"
     ]
    },
    {
     "name": "stdout",
     "output_type": "stream",
     "text": [
      "Computing accuracy\n",
      "Test set accuracy (Precision@1) = 0.8438661710037175\n",
      "Epoch 94 Iteration 0: Loss = 0.853522539138794\n",
      "Epoch 94 Iteration 10: Loss = 0.0\n",
      "Epoch 94 Iteration 20: Loss = 0.8527625203132629\n",
      "Epoch 94 Iteration 30: Loss = 1.7172892093658447\n",
      "Epoch 94 Iteration 40: Loss = 0.8397876620292664\n",
      "Epoch 94 Iteration 50: Loss = 1.6747217178344727\n"
     ]
    },
    {
     "name": "stderr",
     "output_type": "stream",
     "text": [
      "100%|██████████| 59/59 [00:01<00:00, 58.87it/s]\n",
      "100%|██████████| 26/26 [00:00<00:00, 61.16it/s]\n"
     ]
    },
    {
     "name": "stdout",
     "output_type": "stream",
     "text": [
      "Computing accuracy\n",
      "Test set accuracy (Precision@1) = 0.8500619578686494\n",
      "Epoch 95 Iteration 0: Loss = 1.7205853462219238\n",
      "Epoch 95 Iteration 10: Loss = 1.6413531303405762\n",
      "Epoch 95 Iteration 20: Loss = 0.8274711966514587\n",
      "Epoch 95 Iteration 30: Loss = 0.8426885604858398\n",
      "Epoch 95 Iteration 40: Loss = 0.8251724243164062\n",
      "Epoch 95 Iteration 50: Loss = 1.6528760194778442\n"
     ]
    },
    {
     "name": "stderr",
     "output_type": "stream",
     "text": [
      "100%|██████████| 59/59 [00:01<00:00, 53.11it/s]\n",
      "100%|██████████| 26/26 [00:00<00:00, 59.16it/s]\n"
     ]
    },
    {
     "name": "stdout",
     "output_type": "stream",
     "text": [
      "Computing accuracy\n",
      "Test set accuracy (Precision@1) = 0.8711276332094176\n",
      "Epoch 96 Iteration 0: Loss = 0.8402458429336548\n",
      "Epoch 96 Iteration 10: Loss = 0.8525142073631287\n",
      "Epoch 96 Iteration 20: Loss = 0.8339442014694214\n",
      "Epoch 96 Iteration 30: Loss = 0.8229596614837646\n",
      "Epoch 96 Iteration 40: Loss = 0.8391353487968445\n",
      "Epoch 96 Iteration 50: Loss = 0.8568629026412964\n"
     ]
    },
    {
     "name": "stderr",
     "output_type": "stream",
     "text": [
      "100%|██████████| 59/59 [00:01<00:00, 55.17it/s]\n",
      "100%|██████████| 26/26 [00:00<00:00, 57.26it/s]\n"
     ]
    },
    {
     "name": "stdout",
     "output_type": "stream",
     "text": [
      "Computing accuracy\n",
      "Test set accuracy (Precision@1) = 0.8599752168525403\n",
      "Epoch 97 Iteration 0: Loss = 0.8375521898269653\n",
      "Epoch 97 Iteration 10: Loss = 0.8166529536247253\n",
      "Epoch 97 Iteration 20: Loss = 0.8594331741333008\n",
      "Epoch 97 Iteration 30: Loss = 0.8310003876686096\n",
      "Epoch 97 Iteration 40: Loss = 0.0\n",
      "Epoch 97 Iteration 50: Loss = 0.887089192867279\n"
     ]
    },
    {
     "name": "stderr",
     "output_type": "stream",
     "text": [
      "100%|██████████| 59/59 [00:01<00:00, 55.85it/s]\n",
      "100%|██████████| 26/26 [00:00<00:00, 58.97it/s]\n"
     ]
    },
    {
     "name": "stdout",
     "output_type": "stream",
     "text": [
      "Computing accuracy\n",
      "Test set accuracy (Precision@1) = 0.8612143742255266\n",
      "Epoch 98 Iteration 0: Loss = 0.8487597703933716\n",
      "Epoch 98 Iteration 10: Loss = 0.8310022950172424\n",
      "Epoch 98 Iteration 20: Loss = 1.6507618427276611\n",
      "Epoch 98 Iteration 30: Loss = 0.8638899326324463\n",
      "Epoch 98 Iteration 40: Loss = 0.86545330286026\n",
      "Epoch 98 Iteration 50: Loss = 0.8434083461761475\n"
     ]
    },
    {
     "name": "stderr",
     "output_type": "stream",
     "text": [
      "100%|██████████| 59/59 [00:00<00:00, 59.32it/s]\n",
      "100%|██████████| 26/26 [00:00<00:00, 62.44it/s]\n"
     ]
    },
    {
     "name": "stdout",
     "output_type": "stream",
     "text": [
      "Computing accuracy\n",
      "Test set accuracy (Precision@1) = 0.8711276332094176\n",
      "Epoch 99 Iteration 0: Loss = 0.0\n",
      "Epoch 99 Iteration 10: Loss = 1.6854486465454102\n",
      "Epoch 99 Iteration 20: Loss = 0.864485502243042\n",
      "Epoch 99 Iteration 30: Loss = 0.8501678705215454\n",
      "Epoch 99 Iteration 40: Loss = 0.8573325872421265\n",
      "Epoch 99 Iteration 50: Loss = 0.8476938605308533\n"
     ]
    },
    {
     "name": "stderr",
     "output_type": "stream",
     "text": [
      "100%|██████████| 59/59 [00:01<00:00, 57.45it/s]\n",
      "100%|██████████| 26/26 [00:00<00:00, 57.41it/s]\n"
     ]
    },
    {
     "name": "stdout",
     "output_type": "stream",
     "text": [
      "Computing accuracy\n",
      "Test set accuracy (Precision@1) = 0.8537794299876085\n",
      "Epoch 100 Iteration 0: Loss = 0.8385785818099976\n",
      "Epoch 100 Iteration 10: Loss = 0.8342812657356262\n",
      "Epoch 100 Iteration 20: Loss = 0.840514063835144\n",
      "Epoch 100 Iteration 30: Loss = 0.0\n",
      "Epoch 100 Iteration 40: Loss = 1.6729151010513306\n",
      "Epoch 100 Iteration 50: Loss = 0.8423941135406494\n"
     ]
    },
    {
     "name": "stderr",
     "output_type": "stream",
     "text": [
      "100%|██████████| 59/59 [00:00<00:00, 60.93it/s]\n",
      "100%|██████████| 26/26 [00:00<00:00, 62.10it/s]\n"
     ]
    },
    {
     "name": "stdout",
     "output_type": "stream",
     "text": [
      "Computing accuracy\n",
      "Test set accuracy (Precision@1) = 0.8773234200743495\n",
      "Epoch 101 Iteration 0: Loss = 0.8429414629936218\n",
      "Epoch 101 Iteration 10: Loss = 0.851263165473938\n",
      "Epoch 101 Iteration 20: Loss = 0.0\n",
      "Epoch 101 Iteration 30: Loss = 0.8534374833106995\n",
      "Epoch 101 Iteration 40: Loss = 0.8243550658226013\n",
      "Epoch 101 Iteration 50: Loss = 0.820254385471344\n"
     ]
    },
    {
     "name": "stderr",
     "output_type": "stream",
     "text": [
      "100%|██████████| 59/59 [00:01<00:00, 56.73it/s]\n",
      "100%|██████████| 26/26 [00:00<00:00, 61.43it/s]\n"
     ]
    },
    {
     "name": "stdout",
     "output_type": "stream",
     "text": [
      "Computing accuracy\n",
      "Test set accuracy (Precision@1) = 0.8574969021065676\n",
      "Epoch 102 Iteration 0: Loss = 0.8067713975906372\n",
      "Epoch 102 Iteration 10: Loss = 1.6991102695465088\n",
      "Epoch 102 Iteration 20: Loss = 1.7789016962051392\n",
      "Epoch 102 Iteration 30: Loss = 1.6490923166275024\n",
      "Epoch 102 Iteration 40: Loss = 0.8487416505813599\n",
      "Epoch 102 Iteration 50: Loss = 0.856110692024231\n"
     ]
    },
    {
     "name": "stderr",
     "output_type": "stream",
     "text": [
      "100%|██████████| 59/59 [00:01<00:00, 56.84it/s]\n",
      "100%|██████████| 26/26 [00:00<00:00, 57.67it/s]\n"
     ]
    },
    {
     "name": "stdout",
     "output_type": "stream",
     "text": [
      "Computing accuracy\n",
      "Test set accuracy (Precision@1) = 0.8537794299876085\n",
      "Epoch 103 Iteration 0: Loss = 0.8033515214920044\n",
      "Epoch 103 Iteration 10: Loss = 1.776971697807312\n",
      "Epoch 103 Iteration 20: Loss = 0.0\n",
      "Epoch 103 Iteration 30: Loss = 0.8499879837036133\n",
      "Epoch 103 Iteration 40: Loss = 0.8562412261962891\n",
      "Epoch 103 Iteration 50: Loss = 0.918984591960907\n"
     ]
    },
    {
     "name": "stderr",
     "output_type": "stream",
     "text": [
      "100%|██████████| 59/59 [00:00<00:00, 60.16it/s]\n",
      "100%|██████████| 26/26 [00:00<00:00, 61.34it/s]\n"
     ]
    },
    {
     "name": "stdout",
     "output_type": "stream",
     "text": [
      "Computing accuracy\n",
      "Test set accuracy (Precision@1) = 0.8649318463444857\n",
      "Epoch 104 Iteration 0: Loss = 0.858038067817688\n",
      "Epoch 104 Iteration 10: Loss = 0.8541430234909058\n",
      "Epoch 104 Iteration 20: Loss = 0.8294122219085693\n",
      "Epoch 104 Iteration 30: Loss = 0.8555221557617188\n",
      "Epoch 104 Iteration 40: Loss = 0.8243302702903748\n",
      "Epoch 104 Iteration 50: Loss = 0.8627027273178101\n"
     ]
    },
    {
     "name": "stderr",
     "output_type": "stream",
     "text": [
      "100%|██████████| 59/59 [00:00<00:00, 59.46it/s]\n",
      "100%|██████████| 26/26 [00:00<00:00, 62.02it/s]\n"
     ]
    },
    {
     "name": "stdout",
     "output_type": "stream",
     "text": [
      "Computing accuracy\n",
      "Test set accuracy (Precision@1) = 0.8475836431226766\n",
      "Epoch 105 Iteration 0: Loss = 0.8659278154373169\n",
      "Epoch 105 Iteration 10: Loss = 0.8400421142578125\n",
      "Epoch 105 Iteration 20: Loss = 0.8355017900466919\n",
      "Epoch 105 Iteration 30: Loss = 0.8261351585388184\n",
      "Epoch 105 Iteration 40: Loss = 0.8510849475860596\n",
      "Epoch 105 Iteration 50: Loss = 0.83697110414505\n"
     ]
    },
    {
     "name": "stderr",
     "output_type": "stream",
     "text": [
      "100%|██████████| 59/59 [00:01<00:00, 56.50it/s]\n",
      "100%|██████████| 26/26 [00:00<00:00, 61.29it/s]\n"
     ]
    },
    {
     "name": "stdout",
     "output_type": "stream",
     "text": [
      "Computing accuracy\n",
      "Test set accuracy (Precision@1) = 0.8525402726146221\n",
      "Epoch 106 Iteration 0: Loss = 1.745959758758545\n",
      "Epoch 106 Iteration 10: Loss = 1.7250462770462036\n",
      "Epoch 106 Iteration 20: Loss = 0.8474103212356567\n",
      "Epoch 106 Iteration 30: Loss = 0.8582214117050171\n",
      "Epoch 106 Iteration 40: Loss = 0.8516486883163452\n",
      "Epoch 106 Iteration 50: Loss = 0.8334921598434448\n"
     ]
    },
    {
     "name": "stderr",
     "output_type": "stream",
     "text": [
      "100%|██████████| 59/59 [00:01<00:00, 56.37it/s]\n",
      "100%|██████████| 26/26 [00:00<00:00, 59.11it/s]\n"
     ]
    },
    {
     "name": "stdout",
     "output_type": "stream",
     "text": [
      "Computing accuracy\n",
      "Test set accuracy (Precision@1) = 0.8698884758364313\n",
      "Epoch 107 Iteration 0: Loss = 0.8288601636886597\n",
      "Epoch 107 Iteration 10: Loss = 0.814680278301239\n",
      "Epoch 107 Iteration 20: Loss = 0.8470119833946228\n",
      "Epoch 107 Iteration 30: Loss = 0.8396963477134705\n",
      "Epoch 107 Iteration 40: Loss = 0.8044565916061401\n",
      "Epoch 107 Iteration 50: Loss = 0.0\n"
     ]
    },
    {
     "name": "stderr",
     "output_type": "stream",
     "text": [
      "100%|██████████| 59/59 [00:01<00:00, 58.88it/s]\n",
      "100%|██████████| 26/26 [00:00<00:00, 63.08it/s]\n"
     ]
    },
    {
     "name": "stdout",
     "output_type": "stream",
     "text": [
      "Computing accuracy\n",
      "Test set accuracy (Precision@1) = 0.8612143742255266\n",
      "Epoch 108 Iteration 0: Loss = 0.8619155883789062\n",
      "Epoch 108 Iteration 10: Loss = 0.8589985370635986\n",
      "Epoch 108 Iteration 20: Loss = 0.8116837739944458\n",
      "Epoch 108 Iteration 30: Loss = 0.8627616167068481\n",
      "Epoch 108 Iteration 40: Loss = 0.81355881690979\n",
      "Epoch 108 Iteration 50: Loss = 0.8322347402572632\n"
     ]
    },
    {
     "name": "stderr",
     "output_type": "stream",
     "text": [
      "100%|██████████| 59/59 [00:01<00:00, 57.75it/s]\n",
      "100%|██████████| 26/26 [00:00<00:00, 60.78it/s]\n"
     ]
    },
    {
     "name": "stdout",
     "output_type": "stream",
     "text": [
      "Computing accuracy\n",
      "Test set accuracy (Precision@1) = 0.8612143742255266\n",
      "Epoch 109 Iteration 0: Loss = 0.0\n",
      "Epoch 109 Iteration 10: Loss = 1.9402151107788086\n",
      "Epoch 109 Iteration 20: Loss = 0.9023205637931824\n",
      "Epoch 109 Iteration 30: Loss = 0.8105515837669373\n",
      "Epoch 109 Iteration 40: Loss = 0.8586379885673523\n",
      "Epoch 109 Iteration 50: Loss = 0.823830246925354\n"
     ]
    },
    {
     "name": "stderr",
     "output_type": "stream",
     "text": [
      "100%|██████████| 59/59 [00:01<00:00, 58.63it/s]\n",
      "100%|██████████| 26/26 [00:00<00:00, 61.59it/s]\n"
     ]
    },
    {
     "name": "stdout",
     "output_type": "stream",
     "text": [
      "Computing accuracy\n",
      "Test set accuracy (Precision@1) = 0.872366790582404\n",
      "Epoch 110 Iteration 0: Loss = 0.8128505945205688\n",
      "Epoch 110 Iteration 10: Loss = 1.6497151851654053\n",
      "Epoch 110 Iteration 20: Loss = 1.6934829950332642\n",
      "Epoch 110 Iteration 30: Loss = 0.8064230680465698\n",
      "Epoch 110 Iteration 40: Loss = 0.8676707148551941\n",
      "Epoch 110 Iteration 50: Loss = 0.8354848027229309\n"
     ]
    },
    {
     "name": "stderr",
     "output_type": "stream",
     "text": [
      "100%|██████████| 59/59 [00:01<00:00, 58.58it/s]\n",
      "100%|██████████| 26/26 [00:00<00:00, 60.12it/s]\n"
     ]
    },
    {
     "name": "stdout",
     "output_type": "stream",
     "text": [
      "Computing accuracy\n",
      "Test set accuracy (Precision@1) = 0.862453531598513\n",
      "Epoch 111 Iteration 0: Loss = 1.7278262376785278\n",
      "Epoch 111 Iteration 10: Loss = 0.8328266143798828\n",
      "Epoch 111 Iteration 20: Loss = 1.7004567384719849\n",
      "Epoch 111 Iteration 30: Loss = 1.6887456178665161\n",
      "Epoch 111 Iteration 40: Loss = 0.8431256413459778\n",
      "Epoch 111 Iteration 50: Loss = 0.8396701812744141\n"
     ]
    },
    {
     "name": "stderr",
     "output_type": "stream",
     "text": [
      "100%|██████████| 59/59 [00:01<00:00, 57.22it/s]\n",
      "100%|██████████| 26/26 [00:00<00:00, 60.71it/s]\n"
     ]
    },
    {
     "name": "stdout",
     "output_type": "stream",
     "text": [
      "Computing accuracy\n",
      "Test set accuracy (Precision@1) = 0.8574969021065676\n",
      "Epoch 112 Iteration 0: Loss = 0.8818033933639526\n",
      "Epoch 112 Iteration 10: Loss = 0.8460482954978943\n",
      "Epoch 112 Iteration 20: Loss = 0.8089118599891663\n",
      "Epoch 112 Iteration 30: Loss = 0.8656894564628601\n",
      "Epoch 112 Iteration 40: Loss = 1.687910556793213\n",
      "Epoch 112 Iteration 50: Loss = 0.8793942332267761\n"
     ]
    },
    {
     "name": "stderr",
     "output_type": "stream",
     "text": [
      "100%|██████████| 59/59 [00:00<00:00, 59.63it/s]\n",
      "100%|██████████| 26/26 [00:00<00:00, 59.87it/s]\n"
     ]
    },
    {
     "name": "stdout",
     "output_type": "stream",
     "text": [
      "Computing accuracy\n",
      "Test set accuracy (Precision@1) = 0.8438661710037175\n",
      "Epoch 113 Iteration 0: Loss = 0.8500614762306213\n",
      "Epoch 113 Iteration 10: Loss = 0.8299932479858398\n",
      "Epoch 113 Iteration 20: Loss = 1.7273519039154053\n",
      "Epoch 113 Iteration 30: Loss = 0.8357548713684082\n",
      "Epoch 113 Iteration 40: Loss = 0.8234500288963318\n",
      "Epoch 113 Iteration 50: Loss = 0.8315542936325073\n"
     ]
    },
    {
     "name": "stderr",
     "output_type": "stream",
     "text": [
      "100%|██████████| 59/59 [00:01<00:00, 53.81it/s]\n",
      "100%|██████████| 26/26 [00:00<00:00, 56.91it/s]\n"
     ]
    },
    {
     "name": "stdout",
     "output_type": "stream",
     "text": [
      "Computing accuracy\n",
      "Test set accuracy (Precision@1) = 0.8599752168525403\n",
      "Epoch 114 Iteration 0: Loss = 1.6689847707748413\n",
      "Epoch 114 Iteration 10: Loss = 0.8467872142791748\n",
      "Epoch 114 Iteration 20: Loss = 0.8421120643615723\n",
      "Epoch 114 Iteration 30: Loss = 0.8253089785575867\n",
      "Epoch 114 Iteration 40: Loss = 0.8603765964508057\n",
      "Epoch 114 Iteration 50: Loss = 0.8415161967277527\n"
     ]
    },
    {
     "name": "stderr",
     "output_type": "stream",
     "text": [
      "100%|██████████| 59/59 [00:00<00:00, 59.35it/s]\n",
      "100%|██████████| 26/26 [00:00<00:00, 63.16it/s]\n"
     ]
    },
    {
     "name": "stdout",
     "output_type": "stream",
     "text": [
      "Computing accuracy\n",
      "Test set accuracy (Precision@1) = 0.8736059479553904\n",
      "Epoch 115 Iteration 0: Loss = 0.8149687051773071\n",
      "Epoch 115 Iteration 10: Loss = 0.8315791487693787\n",
      "Epoch 115 Iteration 20: Loss = 0.8218912482261658\n",
      "Epoch 115 Iteration 30: Loss = 1.745449423789978\n",
      "Epoch 115 Iteration 40: Loss = 0.8830941915512085\n",
      "Epoch 115 Iteration 50: Loss = 1.6815953254699707\n"
     ]
    },
    {
     "name": "stderr",
     "output_type": "stream",
     "text": [
      "100%|██████████| 59/59 [00:00<00:00, 59.38it/s]\n",
      "100%|██████████| 26/26 [00:00<00:00, 60.78it/s]\n"
     ]
    },
    {
     "name": "stdout",
     "output_type": "stream",
     "text": [
      "Computing accuracy\n",
      "Test set accuracy (Precision@1) = 0.8686493184634448\n",
      "Epoch 116 Iteration 0: Loss = 0.87152099609375\n",
      "Epoch 116 Iteration 10: Loss = 0.0\n",
      "Epoch 116 Iteration 20: Loss = 0.8184006214141846\n",
      "Epoch 116 Iteration 30: Loss = 0.8486192226409912\n",
      "Epoch 116 Iteration 40: Loss = 0.8434333205223083\n",
      "Epoch 116 Iteration 50: Loss = 0.8697122931480408\n"
     ]
    },
    {
     "name": "stderr",
     "output_type": "stream",
     "text": [
      "100%|██████████| 59/59 [00:00<00:00, 59.60it/s]\n",
      "100%|██████████| 26/26 [00:00<00:00, 56.69it/s]\n"
     ]
    },
    {
     "name": "stdout",
     "output_type": "stream",
     "text": [
      "Computing accuracy\n",
      "Test set accuracy (Precision@1) = 0.8661710037174721\n",
      "Epoch 117 Iteration 0: Loss = 0.8283265829086304\n",
      "Epoch 117 Iteration 10: Loss = 0.0\n",
      "Epoch 117 Iteration 20: Loss = 0.8329728841781616\n",
      "Epoch 117 Iteration 30: Loss = 0.8171328902244568\n",
      "Epoch 117 Iteration 40: Loss = 0.0\n",
      "Epoch 117 Iteration 50: Loss = 1.003523588180542\n"
     ]
    },
    {
     "name": "stderr",
     "output_type": "stream",
     "text": [
      "100%|██████████| 59/59 [00:01<00:00, 55.28it/s]\n",
      "100%|██████████| 26/26 [00:00<00:00, 58.04it/s]\n"
     ]
    },
    {
     "name": "stdout",
     "output_type": "stream",
     "text": [
      "Computing accuracy\n",
      "Test set accuracy (Precision@1) = 0.8773234200743495\n",
      "Epoch 118 Iteration 0: Loss = 1.6502426862716675\n",
      "Epoch 118 Iteration 10: Loss = 0.8895024061203003\n",
      "Epoch 118 Iteration 20: Loss = 0.0\n",
      "Epoch 118 Iteration 30: Loss = 0.8610374927520752\n",
      "Epoch 118 Iteration 40: Loss = 0.84748774766922\n",
      "Epoch 118 Iteration 50: Loss = 0.8052831888198853\n"
     ]
    },
    {
     "name": "stderr",
     "output_type": "stream",
     "text": [
      "100%|██████████| 59/59 [00:01<00:00, 54.91it/s]\n",
      "100%|██████████| 26/26 [00:00<00:00, 61.08it/s]\n"
     ]
    },
    {
     "name": "stdout",
     "output_type": "stream",
     "text": [
      "Computing accuracy\n",
      "Test set accuracy (Precision@1) = 0.8661710037174721\n",
      "Epoch 119 Iteration 0: Loss = 0.8779224157333374\n",
      "Epoch 119 Iteration 10: Loss = 0.8781099319458008\n",
      "Epoch 119 Iteration 20: Loss = 1.8027245998382568\n",
      "Epoch 119 Iteration 30: Loss = 0.8351883888244629\n",
      "Epoch 119 Iteration 40: Loss = 0.826870858669281\n",
      "Epoch 119 Iteration 50: Loss = 0.8570848703384399\n"
     ]
    },
    {
     "name": "stderr",
     "output_type": "stream",
     "text": [
      "100%|██████████| 59/59 [00:01<00:00, 53.88it/s]\n",
      "100%|██████████| 26/26 [00:00<00:00, 59.13it/s]\n"
     ]
    },
    {
     "name": "stdout",
     "output_type": "stream",
     "text": [
      "Computing accuracy\n",
      "Test set accuracy (Precision@1) = 0.8550185873605948\n",
      "Epoch 120 Iteration 0: Loss = 0.8406453132629395\n",
      "Epoch 120 Iteration 10: Loss = 0.8617842197418213\n",
      "Epoch 120 Iteration 20: Loss = 0.8288975954055786\n",
      "Epoch 120 Iteration 30: Loss = 1.704803228378296\n",
      "Epoch 120 Iteration 40: Loss = 0.8112770915031433\n",
      "Epoch 120 Iteration 50: Loss = 0.8842419981956482\n"
     ]
    },
    {
     "name": "stderr",
     "output_type": "stream",
     "text": [
      "100%|██████████| 59/59 [00:01<00:00, 58.98it/s]\n",
      "100%|██████████| 26/26 [00:00<00:00, 61.28it/s]\n"
     ]
    },
    {
     "name": "stdout",
     "output_type": "stream",
     "text": [
      "Computing accuracy\n",
      "Test set accuracy (Precision@1) = 0.872366790582404\n",
      "Epoch 121 Iteration 0: Loss = 0.8567158579826355\n",
      "Epoch 121 Iteration 10: Loss = 0.8535577654838562\n",
      "Epoch 121 Iteration 20: Loss = 0.8333012461662292\n",
      "Epoch 121 Iteration 30: Loss = 0.8664859533309937\n",
      "Epoch 121 Iteration 40: Loss = 0.8136529326438904\n",
      "Epoch 121 Iteration 50: Loss = 0.8259660005569458\n"
     ]
    },
    {
     "name": "stderr",
     "output_type": "stream",
     "text": [
      "100%|██████████| 59/59 [00:00<00:00, 59.32it/s]\n",
      "100%|██████████| 26/26 [00:00<00:00, 61.72it/s]\n"
     ]
    },
    {
     "name": "stdout",
     "output_type": "stream",
     "text": [
      "Computing accuracy\n",
      "Test set accuracy (Precision@1) = 0.8649318463444857\n",
      "Epoch 122 Iteration 0: Loss = 0.8222237825393677\n",
      "Epoch 122 Iteration 10: Loss = 1.6872682571411133\n",
      "Epoch 122 Iteration 20: Loss = 0.8269921541213989\n",
      "Epoch 122 Iteration 30: Loss = 0.8364495635032654\n",
      "Epoch 122 Iteration 40: Loss = 0.8617953062057495\n",
      "Epoch 122 Iteration 50: Loss = 0.8503764271736145\n"
     ]
    },
    {
     "name": "stderr",
     "output_type": "stream",
     "text": [
      "100%|██████████| 59/59 [00:01<00:00, 58.81it/s]\n",
      "100%|██████████| 26/26 [00:00<00:00, 60.73it/s]\n"
     ]
    },
    {
     "name": "stdout",
     "output_type": "stream",
     "text": [
      "Computing accuracy\n",
      "Test set accuracy (Precision@1) = 0.8562577447335812\n",
      "Epoch 123 Iteration 0: Loss = 0.0\n",
      "Epoch 123 Iteration 10: Loss = 0.8391951322555542\n",
      "Epoch 123 Iteration 20: Loss = 0.840660810470581\n",
      "Epoch 123 Iteration 30: Loss = 1.7267396450042725\n",
      "Epoch 123 Iteration 40: Loss = 0.8297314047813416\n",
      "Epoch 123 Iteration 50: Loss = 1.7582513093948364\n"
     ]
    },
    {
     "name": "stderr",
     "output_type": "stream",
     "text": [
      "100%|██████████| 59/59 [00:01<00:00, 55.41it/s]\n",
      "100%|██████████| 26/26 [00:00<00:00, 61.36it/s]\n"
     ]
    },
    {
     "name": "stdout",
     "output_type": "stream",
     "text": [
      "Computing accuracy\n",
      "Test set accuracy (Precision@1) = 0.8537794299876085\n",
      "Epoch 124 Iteration 0: Loss = 0.8681677579879761\n",
      "Epoch 124 Iteration 10: Loss = 1.656768798828125\n",
      "Epoch 124 Iteration 20: Loss = 0.8459142446517944\n",
      "Epoch 124 Iteration 30: Loss = 0.8225650191307068\n",
      "Epoch 124 Iteration 40: Loss = 0.8386573791503906\n",
      "Epoch 124 Iteration 50: Loss = 0.8557369709014893\n"
     ]
    },
    {
     "name": "stderr",
     "output_type": "stream",
     "text": [
      "100%|██████████| 59/59 [00:01<00:00, 49.59it/s]\n",
      "100%|██████████| 26/26 [00:00<00:00, 52.53it/s]\n"
     ]
    },
    {
     "name": "stdout",
     "output_type": "stream",
     "text": [
      "Computing accuracy\n",
      "Test set accuracy (Precision@1) = 0.8785625774473358\n",
      "Epoch 125 Iteration 0: Loss = 0.8263442516326904\n",
      "Epoch 125 Iteration 10: Loss = 1.6299996376037598\n",
      "Epoch 125 Iteration 20: Loss = 0.8712829947471619\n",
      "Epoch 125 Iteration 30: Loss = 1.690793752670288\n",
      "Epoch 125 Iteration 40: Loss = 1.7264755964279175\n",
      "Epoch 125 Iteration 50: Loss = 0.8498217463493347\n"
     ]
    },
    {
     "name": "stderr",
     "output_type": "stream",
     "text": [
      "100%|██████████| 59/59 [00:01<00:00, 58.34it/s]\n",
      "100%|██████████| 26/26 [00:00<00:00, 56.02it/s]\n"
     ]
    },
    {
     "name": "stdout",
     "output_type": "stream",
     "text": [
      "Computing accuracy\n",
      "Test set accuracy (Precision@1) = 0.8351920693928129\n",
      "Epoch 126 Iteration 0: Loss = 0.836658775806427\n",
      "Epoch 126 Iteration 10: Loss = 0.8179267644882202\n",
      "Epoch 126 Iteration 20: Loss = 0.8198559284210205\n",
      "Epoch 126 Iteration 30: Loss = 0.8456498384475708\n",
      "Epoch 126 Iteration 40: Loss = 0.9236016273498535\n",
      "Epoch 126 Iteration 50: Loss = 0.8345714211463928\n"
     ]
    },
    {
     "name": "stderr",
     "output_type": "stream",
     "text": [
      "100%|██████████| 59/59 [00:01<00:00, 54.65it/s]\n",
      "100%|██████████| 26/26 [00:00<00:00, 57.69it/s]\n"
     ]
    },
    {
     "name": "stdout",
     "output_type": "stream",
     "text": [
      "Computing accuracy\n",
      "Test set accuracy (Precision@1) = 0.838909541511772\n",
      "Epoch 127 Iteration 0: Loss = 0.8219770789146423\n",
      "Epoch 127 Iteration 10: Loss = 0.8594242930412292\n",
      "Epoch 127 Iteration 20: Loss = 0.8484699726104736\n",
      "Epoch 127 Iteration 30: Loss = 0.8948076963424683\n",
      "Epoch 127 Iteration 40: Loss = 0.8260688781738281\n",
      "Epoch 127 Iteration 50: Loss = 0.0\n"
     ]
    },
    {
     "name": "stderr",
     "output_type": "stream",
     "text": [
      "100%|██████████| 59/59 [00:01<00:00, 57.40it/s]\n",
      "100%|██████████| 26/26 [00:00<00:00, 59.69it/s]\n"
     ]
    },
    {
     "name": "stdout",
     "output_type": "stream",
     "text": [
      "Computing accuracy\n",
      "Test set accuracy (Precision@1) = 0.8674101610904585\n",
      "Epoch 128 Iteration 0: Loss = 0.8385258913040161\n",
      "Epoch 128 Iteration 10: Loss = 0.855944812297821\n",
      "Epoch 128 Iteration 20: Loss = 0.0\n",
      "Epoch 128 Iteration 30: Loss = 0.8273851871490479\n",
      "Epoch 128 Iteration 40: Loss = 1.6802706718444824\n",
      "Epoch 128 Iteration 50: Loss = 0.845476508140564\n"
     ]
    },
    {
     "name": "stderr",
     "output_type": "stream",
     "text": [
      "100%|██████████| 59/59 [00:01<00:00, 55.51it/s]\n",
      "100%|██████████| 26/26 [00:00<00:00, 58.35it/s]\n"
     ]
    },
    {
     "name": "stdout",
     "output_type": "stream",
     "text": [
      "Computing accuracy\n",
      "Test set accuracy (Precision@1) = 0.8513011152416357\n",
      "Epoch 129 Iteration 0: Loss = 0.8259893655776978\n",
      "Epoch 129 Iteration 10: Loss = 0.8203150033950806\n",
      "Epoch 129 Iteration 20: Loss = 0.8149368762969971\n",
      "Epoch 129 Iteration 30: Loss = 0.839464545249939\n",
      "Epoch 129 Iteration 40: Loss = 0.0\n",
      "Epoch 129 Iteration 50: Loss = 0.8965375423431396\n"
     ]
    },
    {
     "name": "stderr",
     "output_type": "stream",
     "text": [
      "100%|██████████| 59/59 [00:01<00:00, 54.96it/s]\n",
      "100%|██████████| 26/26 [00:00<00:00, 58.81it/s]\n"
     ]
    },
    {
     "name": "stdout",
     "output_type": "stream",
     "text": [
      "Computing accuracy\n",
      "Test set accuracy (Precision@1) = 0.8636926889714994\n",
      "Epoch 130 Iteration 0: Loss = 0.8313686847686768\n",
      "Epoch 130 Iteration 10: Loss = 0.8012522459030151\n",
      "Epoch 130 Iteration 20: Loss = 0.8680219054222107\n",
      "Epoch 130 Iteration 30: Loss = 0.8312747478485107\n",
      "Epoch 130 Iteration 40: Loss = 1.7390191555023193\n",
      "Epoch 130 Iteration 50: Loss = 0.8494249582290649\n"
     ]
    },
    {
     "name": "stderr",
     "output_type": "stream",
     "text": [
      "100%|██████████| 59/59 [00:01<00:00, 54.83it/s]\n",
      "100%|██████████| 26/26 [00:00<00:00, 57.86it/s]\n"
     ]
    },
    {
     "name": "stdout",
     "output_type": "stream",
     "text": [
      "Computing accuracy\n",
      "Test set accuracy (Precision@1) = 0.8736059479553904\n",
      "Epoch 131 Iteration 0: Loss = 0.0\n",
      "Epoch 131 Iteration 10: Loss = 1.6916937828063965\n",
      "Epoch 131 Iteration 20: Loss = 0.8479986190795898\n",
      "Epoch 131 Iteration 30: Loss = 0.0\n",
      "Epoch 131 Iteration 40: Loss = 0.8835723400115967\n",
      "Epoch 131 Iteration 50: Loss = 1.6446707248687744\n"
     ]
    },
    {
     "name": "stderr",
     "output_type": "stream",
     "text": [
      "100%|██████████| 59/59 [00:01<00:00, 56.36it/s]\n",
      "100%|██████████| 26/26 [00:00<00:00, 58.14it/s]\n"
     ]
    },
    {
     "name": "stdout",
     "output_type": "stream",
     "text": [
      "Computing accuracy\n",
      "Test set accuracy (Precision@1) = 0.8426270136307311\n",
      "Epoch 132 Iteration 0: Loss = 0.8130063414573669\n",
      "Epoch 132 Iteration 10: Loss = 1.6786601543426514\n",
      "Epoch 132 Iteration 20: Loss = 0.8315890431404114\n",
      "Epoch 132 Iteration 30: Loss = 0.8410314917564392\n",
      "Epoch 132 Iteration 40: Loss = 1.6621675491333008\n",
      "Epoch 132 Iteration 50: Loss = 0.8471179008483887\n"
     ]
    },
    {
     "name": "stderr",
     "output_type": "stream",
     "text": [
      "100%|██████████| 59/59 [00:01<00:00, 57.58it/s]\n",
      "100%|██████████| 26/26 [00:00<00:00, 60.66it/s]\n"
     ]
    },
    {
     "name": "stdout",
     "output_type": "stream",
     "text": [
      "Computing accuracy\n",
      "Test set accuracy (Precision@1) = 0.8500619578686494\n",
      "Epoch 133 Iteration 0: Loss = 0.8307923078536987\n",
      "Epoch 133 Iteration 10: Loss = 0.8765004873275757\n",
      "Epoch 133 Iteration 20: Loss = 1.6386990547180176\n",
      "Epoch 133 Iteration 30: Loss = 0.8477122783660889\n",
      "Epoch 133 Iteration 40: Loss = 0.8489053845405579\n",
      "Epoch 133 Iteration 50: Loss = 0.8442468047142029\n"
     ]
    },
    {
     "name": "stderr",
     "output_type": "stream",
     "text": [
      "100%|██████████| 59/59 [00:01<00:00, 55.18it/s]\n",
      "100%|██████████| 26/26 [00:00<00:00, 61.36it/s]\n"
     ]
    },
    {
     "name": "stdout",
     "output_type": "stream",
     "text": [
      "Computing accuracy\n",
      "Test set accuracy (Precision@1) = 0.872366790582404\n",
      "Epoch 134 Iteration 0: Loss = 0.8276922106742859\n",
      "Epoch 134 Iteration 10: Loss = 0.8352224826812744\n",
      "Epoch 134 Iteration 20: Loss = 0.8335506319999695\n",
      "Epoch 134 Iteration 30: Loss = 0.8229259252548218\n",
      "Epoch 134 Iteration 40: Loss = 0.0\n",
      "Epoch 134 Iteration 50: Loss = 1.7341364622116089\n"
     ]
    },
    {
     "name": "stderr",
     "output_type": "stream",
     "text": [
      "100%|██████████| 59/59 [00:00<00:00, 59.74it/s]\n",
      "100%|██████████| 26/26 [00:00<00:00, 61.88it/s]\n"
     ]
    },
    {
     "name": "stdout",
     "output_type": "stream",
     "text": [
      "Computing accuracy\n",
      "Test set accuracy (Precision@1) = 0.8475836431226766\n",
      "Epoch 135 Iteration 0: Loss = 0.8513391017913818\n",
      "Epoch 135 Iteration 10: Loss = 0.8496124744415283\n",
      "Epoch 135 Iteration 20: Loss = 0.8439382910728455\n",
      "Epoch 135 Iteration 30: Loss = 0.8327368497848511\n",
      "Epoch 135 Iteration 40: Loss = 0.8344800472259521\n",
      "Epoch 135 Iteration 50: Loss = 0.851442277431488\n"
     ]
    },
    {
     "name": "stderr",
     "output_type": "stream",
     "text": [
      "100%|██████████| 59/59 [00:01<00:00, 56.16it/s]\n",
      "100%|██████████| 26/26 [00:00<00:00, 57.60it/s]\n"
     ]
    },
    {
     "name": "stdout",
     "output_type": "stream",
     "text": [
      "Computing accuracy\n",
      "Test set accuracy (Precision@1) = 0.862453531598513\n",
      "Epoch 136 Iteration 0: Loss = 0.8646132349967957\n",
      "Epoch 136 Iteration 10: Loss = 0.8784424066543579\n",
      "Epoch 136 Iteration 20: Loss = 0.862419843673706\n",
      "Epoch 136 Iteration 30: Loss = 1.7167232036590576\n",
      "Epoch 136 Iteration 40: Loss = 0.8213838934898376\n",
      "Epoch 136 Iteration 50: Loss = 0.8156819343566895\n"
     ]
    },
    {
     "name": "stderr",
     "output_type": "stream",
     "text": [
      "100%|██████████| 59/59 [00:01<00:00, 56.81it/s]\n",
      "100%|██████████| 26/26 [00:00<00:00, 61.39it/s]\n"
     ]
    },
    {
     "name": "stdout",
     "output_type": "stream",
     "text": [
      "Computing accuracy\n",
      "Test set accuracy (Precision@1) = 0.862453531598513\n",
      "Epoch 137 Iteration 0: Loss = 0.8546820878982544\n",
      "Epoch 137 Iteration 10: Loss = 0.8500820398330688\n",
      "Epoch 137 Iteration 20: Loss = 0.8232672214508057\n",
      "Epoch 137 Iteration 30: Loss = 1.6728200912475586\n",
      "Epoch 137 Iteration 40: Loss = 0.0\n",
      "Epoch 137 Iteration 50: Loss = 0.8266047239303589\n"
     ]
    },
    {
     "name": "stderr",
     "output_type": "stream",
     "text": [
      "100%|██████████| 59/59 [00:01<00:00, 54.00it/s]\n",
      "100%|██████████| 26/26 [00:00<00:00, 59.51it/s]\n"
     ]
    },
    {
     "name": "stdout",
     "output_type": "stream",
     "text": [
      "Computing accuracy\n",
      "Test set accuracy (Precision@1) = 0.862453531598513\n",
      "Epoch 138 Iteration 0: Loss = 1.7140803337097168\n",
      "Epoch 138 Iteration 10: Loss = 0.8188449144363403\n",
      "Epoch 138 Iteration 20: Loss = 0.8747261762619019\n",
      "Epoch 138 Iteration 30: Loss = 0.8113618493080139\n",
      "Epoch 138 Iteration 40: Loss = 0.8392990827560425\n",
      "Epoch 138 Iteration 50: Loss = 0.826241135597229\n"
     ]
    },
    {
     "name": "stderr",
     "output_type": "stream",
     "text": [
      "100%|██████████| 59/59 [00:01<00:00, 58.46it/s]\n",
      "100%|██████████| 26/26 [00:00<00:00, 62.24it/s]\n"
     ]
    },
    {
     "name": "stdout",
     "output_type": "stream",
     "text": [
      "Computing accuracy\n",
      "Test set accuracy (Precision@1) = 0.8661710037174721\n",
      "Epoch 139 Iteration 0: Loss = 0.8338179588317871\n",
      "Epoch 139 Iteration 10: Loss = 0.8126122951507568\n",
      "Epoch 139 Iteration 20: Loss = 0.8480722308158875\n",
      "Epoch 139 Iteration 30: Loss = 0.8578270673751831\n",
      "Epoch 139 Iteration 40: Loss = 0.8338984251022339\n",
      "Epoch 139 Iteration 50: Loss = 0.8414316177368164\n"
     ]
    },
    {
     "name": "stderr",
     "output_type": "stream",
     "text": [
      "100%|██████████| 59/59 [00:01<00:00, 54.41it/s]\n",
      "100%|██████████| 26/26 [00:00<00:00, 60.56it/s]\n"
     ]
    },
    {
     "name": "stdout",
     "output_type": "stream",
     "text": [
      "Computing accuracy\n",
      "Test set accuracy (Precision@1) = 0.8500619578686494\n",
      "Epoch 140 Iteration 0: Loss = 0.8463586568832397\n",
      "Epoch 140 Iteration 10: Loss = 0.8298488855361938\n",
      "Epoch 140 Iteration 20: Loss = 0.8392375707626343\n",
      "Epoch 140 Iteration 30: Loss = 1.763355016708374\n",
      "Epoch 140 Iteration 40: Loss = 0.8295193910598755\n",
      "Epoch 140 Iteration 50: Loss = 1.693829894065857\n"
     ]
    },
    {
     "name": "stderr",
     "output_type": "stream",
     "text": [
      "100%|██████████| 59/59 [00:01<00:00, 58.69it/s]\n",
      "100%|██████████| 26/26 [00:00<00:00, 59.25it/s]\n"
     ]
    },
    {
     "name": "stdout",
     "output_type": "stream",
     "text": [
      "Computing accuracy\n",
      "Test set accuracy (Precision@1) = 0.8463444857496902\n",
      "Epoch 141 Iteration 0: Loss = 0.8589385747909546\n",
      "Epoch 141 Iteration 10: Loss = 0.8374766111373901\n",
      "Epoch 141 Iteration 20: Loss = 0.86894690990448\n",
      "Epoch 141 Iteration 30: Loss = 0.8190969824790955\n",
      "Epoch 141 Iteration 40: Loss = 0.8672055602073669\n",
      "Epoch 141 Iteration 50: Loss = 1.7048814296722412\n"
     ]
    },
    {
     "name": "stderr",
     "output_type": "stream",
     "text": [
      "100%|██████████| 59/59 [00:01<00:00, 54.44it/s]\n",
      "100%|██████████| 26/26 [00:00<00:00, 57.57it/s]\n"
     ]
    },
    {
     "name": "stdout",
     "output_type": "stream",
     "text": [
      "Computing accuracy\n",
      "Test set accuracy (Precision@1) = 0.8798017348203222\n",
      "Epoch 142 Iteration 0: Loss = 0.8158214092254639\n",
      "Epoch 142 Iteration 10: Loss = 0.8298132419586182\n",
      "Epoch 142 Iteration 20: Loss = 0.8470367789268494\n",
      "Epoch 142 Iteration 30: Loss = 0.8467442393302917\n",
      "Epoch 142 Iteration 40: Loss = 1.6715450286865234\n",
      "Epoch 142 Iteration 50: Loss = 0.836803138256073\n"
     ]
    },
    {
     "name": "stderr",
     "output_type": "stream",
     "text": [
      "100%|██████████| 59/59 [00:01<00:00, 57.09it/s]\n",
      "100%|██████████| 26/26 [00:00<00:00, 62.27it/s]\n"
     ]
    },
    {
     "name": "stdout",
     "output_type": "stream",
     "text": [
      "Computing accuracy\n",
      "Test set accuracy (Precision@1) = 0.8760842627013631\n",
      "Epoch 143 Iteration 0: Loss = 0.8235015869140625\n",
      "Epoch 143 Iteration 10: Loss = 0.8476421236991882\n",
      "Epoch 143 Iteration 20: Loss = 0.0\n",
      "Epoch 143 Iteration 30: Loss = 0.8620035648345947\n",
      "Epoch 143 Iteration 40: Loss = 1.6766867637634277\n",
      "Epoch 143 Iteration 50: Loss = 0.8426203727722168\n"
     ]
    },
    {
     "name": "stderr",
     "output_type": "stream",
     "text": [
      "100%|██████████| 59/59 [00:01<00:00, 56.29it/s]\n",
      "100%|██████████| 26/26 [00:00<00:00, 58.09it/s]\n"
     ]
    },
    {
     "name": "stdout",
     "output_type": "stream",
     "text": [
      "Computing accuracy\n",
      "Test set accuracy (Precision@1) = 0.8612143742255266\n",
      "Epoch 144 Iteration 0: Loss = 0.8425902128219604\n",
      "Epoch 144 Iteration 10: Loss = 0.8661960959434509\n",
      "Epoch 144 Iteration 20: Loss = 0.8117499351501465\n",
      "Epoch 144 Iteration 30: Loss = 1.7231799364089966\n",
      "Epoch 144 Iteration 40: Loss = 0.836570680141449\n",
      "Epoch 144 Iteration 50: Loss = 0.8191825151443481\n"
     ]
    },
    {
     "name": "stderr",
     "output_type": "stream",
     "text": [
      "100%|██████████| 59/59 [00:01<00:00, 57.24it/s]\n",
      "100%|██████████| 26/26 [00:00<00:00, 56.61it/s]\n"
     ]
    },
    {
     "name": "stdout",
     "output_type": "stream",
     "text": [
      "Computing accuracy\n",
      "Test set accuracy (Precision@1) = 0.8574969021065676\n",
      "Epoch 145 Iteration 0: Loss = 0.929822564125061\n",
      "Epoch 145 Iteration 10: Loss = 1.6767289638519287\n",
      "Epoch 145 Iteration 20: Loss = 0.8564099073410034\n",
      "Epoch 145 Iteration 30: Loss = 1.7043763399124146\n",
      "Epoch 145 Iteration 40: Loss = 0.8550527095794678\n",
      "Epoch 145 Iteration 50: Loss = 1.7185282707214355\n"
     ]
    },
    {
     "name": "stderr",
     "output_type": "stream",
     "text": [
      "100%|██████████| 59/59 [00:01<00:00, 54.67it/s]\n",
      "100%|██████████| 26/26 [00:00<00:00, 59.40it/s]\n"
     ]
    },
    {
     "name": "stdout",
     "output_type": "stream",
     "text": [
      "Computing accuracy\n",
      "Test set accuracy (Precision@1) = 0.8674101610904585\n",
      "Epoch 146 Iteration 0: Loss = 0.8348569869995117\n",
      "Epoch 146 Iteration 10: Loss = 1.6867938041687012\n",
      "Epoch 146 Iteration 20: Loss = 0.8229557275772095\n",
      "Epoch 146 Iteration 30: Loss = 0.8397323489189148\n",
      "Epoch 146 Iteration 40: Loss = 0.0\n",
      "Epoch 146 Iteration 50: Loss = 0.8254350423812866\n"
     ]
    },
    {
     "name": "stderr",
     "output_type": "stream",
     "text": [
      "100%|██████████| 59/59 [00:00<00:00, 59.28it/s]\n",
      "100%|██████████| 26/26 [00:00<00:00, 58.67it/s]\n"
     ]
    },
    {
     "name": "stdout",
     "output_type": "stream",
     "text": [
      "Computing accuracy\n",
      "Test set accuracy (Precision@1) = 0.862453531598513\n",
      "Epoch 147 Iteration 0: Loss = 0.0\n",
      "Epoch 147 Iteration 10: Loss = 0.8205549716949463\n",
      "Epoch 147 Iteration 20: Loss = 1.7392736673355103\n",
      "Epoch 147 Iteration 30: Loss = 0.8918943405151367\n",
      "Epoch 147 Iteration 40: Loss = 0.8389215469360352\n",
      "Epoch 147 Iteration 50: Loss = 0.8316761255264282\n"
     ]
    },
    {
     "name": "stderr",
     "output_type": "stream",
     "text": [
      "100%|██████████| 59/59 [00:01<00:00, 55.31it/s]\n",
      "100%|██████████| 26/26 [00:00<00:00, 53.44it/s]\n"
     ]
    },
    {
     "name": "stdout",
     "output_type": "stream",
     "text": [
      "Computing accuracy\n",
      "Test set accuracy (Precision@1) = 0.8636926889714994\n",
      "Epoch 148 Iteration 0: Loss = 1.668155312538147\n",
      "Epoch 148 Iteration 10: Loss = 0.8384913802146912\n",
      "Epoch 148 Iteration 20: Loss = 0.8347378373146057\n",
      "Epoch 148 Iteration 30: Loss = 0.8444819450378418\n",
      "Epoch 148 Iteration 40: Loss = 0.8508795499801636\n",
      "Epoch 148 Iteration 50: Loss = 0.8567010164260864\n"
     ]
    },
    {
     "name": "stderr",
     "output_type": "stream",
     "text": [
      "100%|██████████| 59/59 [00:01<00:00, 54.46it/s]\n",
      "100%|██████████| 26/26 [00:00<00:00, 60.40it/s]\n"
     ]
    },
    {
     "name": "stdout",
     "output_type": "stream",
     "text": [
      "Computing accuracy\n",
      "Test set accuracy (Precision@1) = 0.8488228004956629\n",
      "Epoch 149 Iteration 0: Loss = 0.8273029923439026\n",
      "Epoch 149 Iteration 10: Loss = 0.8237910866737366\n",
      "Epoch 149 Iteration 20: Loss = 0.809062123298645\n",
      "Epoch 149 Iteration 30: Loss = 0.8118295669555664\n",
      "Epoch 149 Iteration 40: Loss = 1.634173035621643\n",
      "Epoch 149 Iteration 50: Loss = 0.8434063792228699\n"
     ]
    },
    {
     "name": "stderr",
     "output_type": "stream",
     "text": [
      "100%|██████████| 59/59 [00:01<00:00, 52.57it/s]\n",
      "100%|██████████| 26/26 [00:00<00:00, 61.13it/s]\n"
     ]
    },
    {
     "name": "stdout",
     "output_type": "stream",
     "text": [
      "Computing accuracy\n",
      "Test set accuracy (Precision@1) = 0.8587360594795539\n",
      "Epoch 150 Iteration 0: Loss = 0.8727545738220215\n",
      "Epoch 150 Iteration 10: Loss = 0.8384604454040527\n",
      "Epoch 150 Iteration 20: Loss = 1.6477868556976318\n",
      "Epoch 150 Iteration 30: Loss = 0.8523231744766235\n",
      "Epoch 150 Iteration 40: Loss = 0.8325371146202087\n",
      "Epoch 150 Iteration 50: Loss = 0.8629793524742126\n"
     ]
    },
    {
     "name": "stderr",
     "output_type": "stream",
     "text": [
      "100%|██████████| 59/59 [00:01<00:00, 57.24it/s]\n",
      "100%|██████████| 26/26 [00:00<00:00, 61.36it/s]\n"
     ]
    },
    {
     "name": "stdout",
     "output_type": "stream",
     "text": [
      "Computing accuracy\n",
      "Test set accuracy (Precision@1) = 0.8711276332094176\n",
      "Epoch 151 Iteration 0: Loss = 0.8410381078720093\n",
      "Epoch 151 Iteration 10: Loss = 0.8080776333808899\n",
      "Epoch 151 Iteration 20: Loss = 0.8299095630645752\n",
      "Epoch 151 Iteration 30: Loss = 0.8193795084953308\n",
      "Epoch 151 Iteration 40: Loss = 0.8208227753639221\n",
      "Epoch 151 Iteration 50: Loss = 1.6579374074935913\n"
     ]
    },
    {
     "name": "stderr",
     "output_type": "stream",
     "text": [
      "100%|██████████| 59/59 [00:01<00:00, 53.55it/s]\n",
      "100%|██████████| 26/26 [00:00<00:00, 58.84it/s]\n"
     ]
    },
    {
     "name": "stdout",
     "output_type": "stream",
     "text": [
      "Computing accuracy\n",
      "Test set accuracy (Precision@1) = 0.8587360594795539\n",
      "Epoch 152 Iteration 0: Loss = 0.8573252558708191\n",
      "Epoch 152 Iteration 10: Loss = 0.8875159621238708\n",
      "Epoch 152 Iteration 20: Loss = 0.82696133852005\n",
      "Epoch 152 Iteration 30: Loss = 0.8381283283233643\n",
      "Epoch 152 Iteration 40: Loss = 0.8669823408126831\n",
      "Epoch 152 Iteration 50: Loss = 0.8363868594169617\n"
     ]
    },
    {
     "name": "stderr",
     "output_type": "stream",
     "text": [
      "100%|██████████| 59/59 [00:01<00:00, 54.82it/s]\n",
      "100%|██████████| 26/26 [00:00<00:00, 57.23it/s]\n"
     ]
    },
    {
     "name": "stdout",
     "output_type": "stream",
     "text": [
      "Computing accuracy\n",
      "Test set accuracy (Precision@1) = 0.8698884758364313\n",
      "Epoch 153 Iteration 0: Loss = 0.8714307546615601\n",
      "Epoch 153 Iteration 10: Loss = 0.8463162183761597\n",
      "Epoch 153 Iteration 20: Loss = 0.8298240900039673\n",
      "Epoch 153 Iteration 30: Loss = 0.8493964076042175\n",
      "Epoch 153 Iteration 40: Loss = 0.8373902440071106\n",
      "Epoch 153 Iteration 50: Loss = 1.715394139289856\n"
     ]
    },
    {
     "name": "stderr",
     "output_type": "stream",
     "text": [
      "100%|██████████| 59/59 [00:01<00:00, 58.24it/s]\n",
      "100%|██████████| 26/26 [00:00<00:00, 58.21it/s]\n"
     ]
    },
    {
     "name": "stdout",
     "output_type": "stream",
     "text": [
      "Computing accuracy\n",
      "Test set accuracy (Precision@1) = 0.8785625774473358\n",
      "Epoch 154 Iteration 0: Loss = 0.833840548992157\n",
      "Epoch 154 Iteration 10: Loss = 0.8543262481689453\n",
      "Epoch 154 Iteration 20: Loss = 0.8476614356040955\n",
      "Epoch 154 Iteration 30: Loss = 0.8388481140136719\n",
      "Epoch 154 Iteration 40: Loss = 0.8796543478965759\n",
      "Epoch 154 Iteration 50: Loss = 0.8253458738327026\n"
     ]
    },
    {
     "name": "stderr",
     "output_type": "stream",
     "text": [
      "100%|██████████| 59/59 [00:01<00:00, 58.01it/s]\n",
      "100%|██████████| 26/26 [00:00<00:00, 58.00it/s]\n"
     ]
    },
    {
     "name": "stdout",
     "output_type": "stream",
     "text": [
      "Computing accuracy\n",
      "Test set accuracy (Precision@1) = 0.8612143742255266\n",
      "Epoch 155 Iteration 0: Loss = 1.620100498199463\n",
      "Epoch 155 Iteration 10: Loss = 0.8255189657211304\n",
      "Epoch 155 Iteration 20: Loss = 0.8338267207145691\n",
      "Epoch 155 Iteration 30: Loss = 0.8090547323226929\n",
      "Epoch 155 Iteration 40: Loss = 0.815797746181488\n",
      "Epoch 155 Iteration 50: Loss = 1.6721166372299194\n"
     ]
    },
    {
     "name": "stderr",
     "output_type": "stream",
     "text": [
      "100%|██████████| 59/59 [00:00<00:00, 59.48it/s]\n",
      "100%|██████████| 26/26 [00:00<00:00, 61.45it/s]\n"
     ]
    },
    {
     "name": "stdout",
     "output_type": "stream",
     "text": [
      "Computing accuracy\n",
      "Test set accuracy (Precision@1) = 0.8760842627013631\n",
      "Epoch 156 Iteration 0: Loss = 0.8358052968978882\n",
      "Epoch 156 Iteration 10: Loss = 0.0\n",
      "Epoch 156 Iteration 20: Loss = 1.6644606590270996\n",
      "Epoch 156 Iteration 30: Loss = 0.8147487640380859\n",
      "Epoch 156 Iteration 40: Loss = 0.8650568723678589\n",
      "Epoch 156 Iteration 50: Loss = 0.8478409647941589\n"
     ]
    },
    {
     "name": "stderr",
     "output_type": "stream",
     "text": [
      "100%|██████████| 59/59 [00:01<00:00, 57.18it/s]\n",
      "100%|██████████| 26/26 [00:00<00:00, 62.20it/s]\n"
     ]
    },
    {
     "name": "stdout",
     "output_type": "stream",
     "text": [
      "Computing accuracy\n",
      "Test set accuracy (Precision@1) = 0.8587360594795539\n",
      "Epoch 157 Iteration 0: Loss = 0.8576501607894897\n",
      "Epoch 157 Iteration 10: Loss = 0.8665554523468018\n",
      "Epoch 157 Iteration 20: Loss = 0.882246732711792\n",
      "Epoch 157 Iteration 30: Loss = 0.840019702911377\n",
      "Epoch 157 Iteration 40: Loss = 1.644744873046875\n",
      "Epoch 157 Iteration 50: Loss = 0.8754236102104187\n"
     ]
    },
    {
     "name": "stderr",
     "output_type": "stream",
     "text": [
      "100%|██████████| 59/59 [00:01<00:00, 58.74it/s]\n",
      "100%|██████████| 26/26 [00:00<00:00, 63.29it/s]\n"
     ]
    },
    {
     "name": "stdout",
     "output_type": "stream",
     "text": [
      "Computing accuracy\n",
      "Test set accuracy (Precision@1) = 0.8574969021065676\n",
      "Epoch 158 Iteration 0: Loss = 0.8637126684188843\n",
      "Epoch 158 Iteration 10: Loss = 1.6578660011291504\n",
      "Epoch 158 Iteration 20: Loss = 0.8490533828735352\n",
      "Epoch 158 Iteration 30: Loss = 0.8468623161315918\n",
      "Epoch 158 Iteration 40: Loss = 0.8371865153312683\n",
      "Epoch 158 Iteration 50: Loss = 0.8671188950538635\n"
     ]
    },
    {
     "name": "stderr",
     "output_type": "stream",
     "text": [
      "100%|██████████| 59/59 [00:00<00:00, 59.48it/s]\n",
      "100%|██████████| 26/26 [00:00<00:00, 60.78it/s]\n"
     ]
    },
    {
     "name": "stdout",
     "output_type": "stream",
     "text": [
      "Computing accuracy\n",
      "Test set accuracy (Precision@1) = 0.862453531598513\n",
      "Epoch 159 Iteration 0: Loss = 0.8416688442230225\n",
      "Epoch 159 Iteration 10: Loss = 0.8567483425140381\n",
      "Epoch 159 Iteration 20: Loss = 1.6560190916061401\n",
      "Epoch 159 Iteration 30: Loss = 0.8666574358940125\n",
      "Epoch 159 Iteration 40: Loss = 0.832935094833374\n",
      "Epoch 159 Iteration 50: Loss = 0.850485622882843\n"
     ]
    },
    {
     "name": "stderr",
     "output_type": "stream",
     "text": [
      "100%|██████████| 59/59 [00:01<00:00, 54.88it/s]\n",
      "100%|██████████| 26/26 [00:00<00:00, 62.23it/s]\n"
     ]
    },
    {
     "name": "stdout",
     "output_type": "stream",
     "text": [
      "Computing accuracy\n",
      "Test set accuracy (Precision@1) = 0.8748451053283767\n",
      "Epoch 160 Iteration 0: Loss = 0.8238725662231445\n",
      "Epoch 160 Iteration 10: Loss = 0.8028651475906372\n",
      "Epoch 160 Iteration 20: Loss = 0.8340182304382324\n",
      "Epoch 160 Iteration 30: Loss = 0.8579049110412598\n",
      "Epoch 160 Iteration 40: Loss = 0.816590428352356\n",
      "Epoch 160 Iteration 50: Loss = 0.8355306386947632\n"
     ]
    },
    {
     "name": "stderr",
     "output_type": "stream",
     "text": [
      "100%|██████████| 59/59 [00:01<00:00, 54.78it/s]\n",
      "100%|██████████| 26/26 [00:00<00:00, 57.18it/s]\n"
     ]
    },
    {
     "name": "stdout",
     "output_type": "stream",
     "text": [
      "Computing accuracy\n",
      "Test set accuracy (Precision@1) = 0.8661710037174721\n",
      "Epoch 161 Iteration 0: Loss = 0.8140611052513123\n",
      "Epoch 161 Iteration 10: Loss = 0.8498040437698364\n",
      "Epoch 161 Iteration 20: Loss = 0.8359075784683228\n",
      "Epoch 161 Iteration 30: Loss = 0.8475133776664734\n",
      "Epoch 161 Iteration 40: Loss = 0.8236228823661804\n",
      "Epoch 161 Iteration 50: Loss = 0.8124592900276184\n"
     ]
    },
    {
     "name": "stderr",
     "output_type": "stream",
     "text": [
      "100%|██████████| 59/59 [00:01<00:00, 55.57it/s]\n",
      "100%|██████████| 26/26 [00:00<00:00, 61.44it/s]\n"
     ]
    },
    {
     "name": "stdout",
     "output_type": "stream",
     "text": [
      "Computing accuracy\n",
      "Test set accuracy (Precision@1) = 0.8587360594795539\n",
      "Epoch 162 Iteration 0: Loss = 0.8278253078460693\n",
      "Epoch 162 Iteration 10: Loss = 0.8580737113952637\n",
      "Epoch 162 Iteration 20: Loss = 0.8058221936225891\n",
      "Epoch 162 Iteration 30: Loss = 0.8290088176727295\n",
      "Epoch 162 Iteration 40: Loss = 0.8601618409156799\n",
      "Epoch 162 Iteration 50: Loss = 0.9438785314559937\n"
     ]
    },
    {
     "name": "stderr",
     "output_type": "stream",
     "text": [
      "100%|██████████| 59/59 [00:00<00:00, 59.41it/s]\n",
      "100%|██████████| 26/26 [00:00<00:00, 60.42it/s]\n"
     ]
    },
    {
     "name": "stdout",
     "output_type": "stream",
     "text": [
      "Computing accuracy\n",
      "Test set accuracy (Precision@1) = 0.8599752168525403\n",
      "Epoch 163 Iteration 0: Loss = 0.9105075001716614\n",
      "Epoch 163 Iteration 10: Loss = 0.8707898855209351\n",
      "Epoch 163 Iteration 20: Loss = 0.8506897687911987\n",
      "Epoch 163 Iteration 30: Loss = 0.8261806964874268\n",
      "Epoch 163 Iteration 40: Loss = 0.8813877701759338\n",
      "Epoch 163 Iteration 50: Loss = 0.8339071869850159\n"
     ]
    },
    {
     "name": "stderr",
     "output_type": "stream",
     "text": [
      "100%|██████████| 59/59 [00:01<00:00, 54.24it/s]\n",
      "100%|██████████| 26/26 [00:00<00:00, 58.51it/s]\n"
     ]
    },
    {
     "name": "stdout",
     "output_type": "stream",
     "text": [
      "Computing accuracy\n",
      "Test set accuracy (Precision@1) = 0.8686493184634448\n",
      "Epoch 164 Iteration 0: Loss = 1.710151195526123\n",
      "Epoch 164 Iteration 10: Loss = 0.848048210144043\n",
      "Epoch 164 Iteration 20: Loss = 0.8463268280029297\n",
      "Epoch 164 Iteration 30: Loss = 0.8161906599998474\n",
      "Epoch 164 Iteration 40: Loss = 1.711192011833191\n",
      "Epoch 164 Iteration 50: Loss = 1.6792666912078857\n"
     ]
    },
    {
     "name": "stderr",
     "output_type": "stream",
     "text": [
      "100%|██████████| 59/59 [00:01<00:00, 53.85it/s]\n",
      "100%|██████████| 26/26 [00:00<00:00, 63.14it/s]\n"
     ]
    },
    {
     "name": "stdout",
     "output_type": "stream",
     "text": [
      "Computing accuracy\n",
      "Test set accuracy (Precision@1) = 0.8736059479553904\n",
      "Epoch 165 Iteration 0: Loss = 0.826743483543396\n",
      "Epoch 165 Iteration 10: Loss = 0.8844717144966125\n",
      "Epoch 165 Iteration 20: Loss = 0.8399527668952942\n",
      "Epoch 165 Iteration 30: Loss = 1.7048840522766113\n",
      "Epoch 165 Iteration 40: Loss = 0.8076418042182922\n",
      "Epoch 165 Iteration 50: Loss = 0.8287983536720276\n"
     ]
    },
    {
     "name": "stderr",
     "output_type": "stream",
     "text": [
      "100%|██████████| 59/59 [00:01<00:00, 57.29it/s]\n",
      "100%|██████████| 26/26 [00:00<00:00, 61.98it/s]\n"
     ]
    },
    {
     "name": "stdout",
     "output_type": "stream",
     "text": [
      "Computing accuracy\n",
      "Test set accuracy (Precision@1) = 0.8760842627013631\n",
      "Epoch 166 Iteration 0: Loss = 1.6959638595581055\n",
      "Epoch 166 Iteration 10: Loss = 0.8321950435638428\n",
      "Epoch 166 Iteration 20: Loss = 0.8370744585990906\n",
      "Epoch 166 Iteration 30: Loss = 1.698178768157959\n",
      "Epoch 166 Iteration 40: Loss = 0.8453730344772339\n",
      "Epoch 166 Iteration 50: Loss = 0.0\n"
     ]
    },
    {
     "name": "stderr",
     "output_type": "stream",
     "text": [
      "100%|██████████| 59/59 [00:00<00:00, 59.50it/s]\n",
      "100%|██████████| 26/26 [00:00<00:00, 65.30it/s]\n"
     ]
    },
    {
     "name": "stdout",
     "output_type": "stream",
     "text": [
      "Computing accuracy\n",
      "Test set accuracy (Precision@1) = 0.8599752168525403\n",
      "Epoch 167 Iteration 0: Loss = 0.8273975253105164\n",
      "Epoch 167 Iteration 10: Loss = 0.8557173609733582\n",
      "Epoch 167 Iteration 20: Loss = 1.7041432857513428\n",
      "Epoch 167 Iteration 30: Loss = 0.0\n",
      "Epoch 167 Iteration 40: Loss = 0.8220600485801697\n",
      "Epoch 167 Iteration 50: Loss = 1.6494591236114502\n"
     ]
    },
    {
     "name": "stderr",
     "output_type": "stream",
     "text": [
      "100%|██████████| 59/59 [00:01<00:00, 58.80it/s]\n",
      "100%|██████████| 26/26 [00:00<00:00, 62.79it/s]\n"
     ]
    },
    {
     "name": "stdout",
     "output_type": "stream",
     "text": [
      "Computing accuracy\n",
      "Test set accuracy (Precision@1) = 0.8798017348203222\n",
      "Epoch 168 Iteration 0: Loss = 1.8106670379638672\n",
      "Epoch 168 Iteration 10: Loss = 1.6947264671325684\n",
      "Epoch 168 Iteration 20: Loss = 0.823275089263916\n",
      "Epoch 168 Iteration 30: Loss = 0.8164026737213135\n",
      "Epoch 168 Iteration 40: Loss = 0.0\n",
      "Epoch 168 Iteration 50: Loss = 0.850348174571991\n"
     ]
    },
    {
     "name": "stderr",
     "output_type": "stream",
     "text": [
      "100%|██████████| 59/59 [00:01<00:00, 54.29it/s]\n",
      "100%|██████████| 26/26 [00:00<00:00, 60.99it/s]\n"
     ]
    },
    {
     "name": "stdout",
     "output_type": "stream",
     "text": [
      "Computing accuracy\n",
      "Test set accuracy (Precision@1) = 0.8785625774473358\n",
      "Epoch 169 Iteration 0: Loss = 0.8281635046005249\n",
      "Epoch 169 Iteration 10: Loss = 0.8847343325614929\n",
      "Epoch 169 Iteration 20: Loss = 0.8566499948501587\n",
      "Epoch 169 Iteration 30: Loss = 0.8284341096878052\n",
      "Epoch 169 Iteration 40: Loss = 0.8313403725624084\n",
      "Epoch 169 Iteration 50: Loss = 0.8602151870727539\n"
     ]
    },
    {
     "name": "stderr",
     "output_type": "stream",
     "text": [
      "100%|██████████| 59/59 [00:01<00:00, 55.78it/s]\n",
      "100%|██████████| 26/26 [00:00<00:00, 56.94it/s]\n"
     ]
    },
    {
     "name": "stdout",
     "output_type": "stream",
     "text": [
      "Computing accuracy\n",
      "Test set accuracy (Precision@1) = 0.8760842627013631\n",
      "Epoch 170 Iteration 0: Loss = 1.7292968034744263\n",
      "Epoch 170 Iteration 10: Loss = 0.8408932685852051\n",
      "Epoch 170 Iteration 20: Loss = 1.695864200592041\n",
      "Epoch 170 Iteration 30: Loss = 0.855928897857666\n",
      "Epoch 170 Iteration 40: Loss = 0.8427025079727173\n",
      "Epoch 170 Iteration 50: Loss = 0.8133646845817566\n"
     ]
    },
    {
     "name": "stderr",
     "output_type": "stream",
     "text": [
      "100%|██████████| 59/59 [00:01<00:00, 56.23it/s]\n",
      "100%|██████████| 26/26 [00:00<00:00, 61.48it/s]\n"
     ]
    },
    {
     "name": "stdout",
     "output_type": "stream",
     "text": [
      "Computing accuracy\n",
      "Test set accuracy (Precision@1) = 0.8587360594795539\n",
      "Epoch 171 Iteration 0: Loss = 0.8725216388702393\n",
      "Epoch 171 Iteration 10: Loss = 1.654754400253296\n",
      "Epoch 171 Iteration 20: Loss = 0.8552793860435486\n",
      "Epoch 171 Iteration 30: Loss = 0.824565589427948\n",
      "Epoch 171 Iteration 40: Loss = 0.8332173228263855\n",
      "Epoch 171 Iteration 50: Loss = 0.8753976225852966\n"
     ]
    },
    {
     "name": "stderr",
     "output_type": "stream",
     "text": [
      "100%|██████████| 59/59 [00:01<00:00, 56.30it/s]\n",
      "100%|██████████| 26/26 [00:00<00:00, 54.65it/s]\n"
     ]
    },
    {
     "name": "stdout",
     "output_type": "stream",
     "text": [
      "Computing accuracy\n",
      "Test set accuracy (Precision@1) = 0.8661710037174721\n",
      "Epoch 172 Iteration 0: Loss = 0.8525850176811218\n",
      "Epoch 172 Iteration 10: Loss = 0.0\n",
      "Epoch 172 Iteration 20: Loss = 0.8167073130607605\n",
      "Epoch 172 Iteration 30: Loss = 0.8127743005752563\n",
      "Epoch 172 Iteration 40: Loss = 0.8454509377479553\n",
      "Epoch 172 Iteration 50: Loss = 0.859707772731781\n"
     ]
    },
    {
     "name": "stderr",
     "output_type": "stream",
     "text": [
      "100%|██████████| 59/59 [00:00<00:00, 59.00it/s]\n",
      "100%|██████████| 26/26 [00:00<00:00, 58.76it/s]\n"
     ]
    },
    {
     "name": "stdout",
     "output_type": "stream",
     "text": [
      "Computing accuracy\n",
      "Test set accuracy (Precision@1) = 0.8661710037174721\n",
      "Epoch 173 Iteration 0: Loss = 0.8430421352386475\n",
      "Epoch 173 Iteration 10: Loss = 0.840225338935852\n",
      "Epoch 173 Iteration 20: Loss = 0.8118056058883667\n",
      "Epoch 173 Iteration 30: Loss = 0.8467057943344116\n",
      "Epoch 173 Iteration 40: Loss = 0.8650099039077759\n",
      "Epoch 173 Iteration 50: Loss = 0.8685509562492371\n"
     ]
    },
    {
     "name": "stderr",
     "output_type": "stream",
     "text": [
      "100%|██████████| 59/59 [00:01<00:00, 58.05it/s]\n",
      "100%|██████████| 26/26 [00:00<00:00, 58.43it/s]\n"
     ]
    },
    {
     "name": "stdout",
     "output_type": "stream",
     "text": [
      "Computing accuracy\n",
      "Test set accuracy (Precision@1) = 0.8636926889714994\n",
      "Epoch 174 Iteration 0: Loss = 0.865320086479187\n",
      "Epoch 174 Iteration 10: Loss = 0.8303260803222656\n",
      "Epoch 174 Iteration 20: Loss = 0.8591852188110352\n",
      "Epoch 174 Iteration 30: Loss = 0.0\n",
      "Epoch 174 Iteration 40: Loss = 0.8658305406570435\n",
      "Epoch 174 Iteration 50: Loss = 0.8369215726852417\n"
     ]
    },
    {
     "name": "stderr",
     "output_type": "stream",
     "text": [
      "100%|██████████| 59/59 [00:01<00:00, 57.44it/s]\n",
      "100%|██████████| 26/26 [00:00<00:00, 54.12it/s]\n"
     ]
    },
    {
     "name": "stdout",
     "output_type": "stream",
     "text": [
      "Computing accuracy\n",
      "Test set accuracy (Precision@1) = 0.8711276332094176\n",
      "Epoch 175 Iteration 0: Loss = 1.637150526046753\n",
      "Epoch 175 Iteration 10: Loss = 0.8353095054626465\n",
      "Epoch 175 Iteration 20: Loss = 0.8196777701377869\n",
      "Epoch 175 Iteration 30: Loss = 0.8370242118835449\n",
      "Epoch 175 Iteration 40: Loss = 0.8616868257522583\n",
      "Epoch 175 Iteration 50: Loss = 0.821730375289917\n"
     ]
    },
    {
     "name": "stderr",
     "output_type": "stream",
     "text": [
      "100%|██████████| 59/59 [00:01<00:00, 52.54it/s]\n",
      "100%|██████████| 26/26 [00:00<00:00, 56.68it/s]\n"
     ]
    },
    {
     "name": "stdout",
     "output_type": "stream",
     "text": [
      "Computing accuracy\n",
      "Test set accuracy (Precision@1) = 0.8574969021065676\n",
      "Epoch 176 Iteration 0: Loss = 1.7064628601074219\n",
      "Epoch 176 Iteration 10: Loss = 0.8105816841125488\n",
      "Epoch 176 Iteration 20: Loss = 0.8317791819572449\n",
      "Epoch 176 Iteration 30: Loss = 0.8462731242179871\n",
      "Epoch 176 Iteration 40: Loss = 0.8377396464347839\n",
      "Epoch 176 Iteration 50: Loss = 0.8340470790863037\n"
     ]
    },
    {
     "name": "stderr",
     "output_type": "stream",
     "text": [
      "100%|██████████| 59/59 [00:01<00:00, 54.79it/s]\n",
      "100%|██████████| 26/26 [00:00<00:00, 59.30it/s]\n"
     ]
    },
    {
     "name": "stdout",
     "output_type": "stream",
     "text": [
      "Computing accuracy\n",
      "Test set accuracy (Precision@1) = 0.8500619578686494\n",
      "Epoch 177 Iteration 0: Loss = 0.8552255630493164\n",
      "Epoch 177 Iteration 10: Loss = 0.8289493918418884\n",
      "Epoch 177 Iteration 20: Loss = 1.8136417865753174\n",
      "Epoch 177 Iteration 30: Loss = 1.6844613552093506\n",
      "Epoch 177 Iteration 40: Loss = 0.8877889513969421\n",
      "Epoch 177 Iteration 50: Loss = 1.6568667888641357\n"
     ]
    },
    {
     "name": "stderr",
     "output_type": "stream",
     "text": [
      "100%|██████████| 59/59 [00:01<00:00, 58.28it/s]\n",
      "100%|██████████| 26/26 [00:00<00:00, 58.68it/s]\n"
     ]
    },
    {
     "name": "stdout",
     "output_type": "stream",
     "text": [
      "Computing accuracy\n",
      "Test set accuracy (Precision@1) = 0.8550185873605948\n",
      "Epoch 178 Iteration 0: Loss = 0.8294447660446167\n",
      "Epoch 178 Iteration 10: Loss = 0.8164199590682983\n",
      "Epoch 178 Iteration 20: Loss = 0.8324998617172241\n",
      "Epoch 178 Iteration 30: Loss = 0.8384930491447449\n",
      "Epoch 178 Iteration 40: Loss = 1.6446044445037842\n",
      "Epoch 178 Iteration 50: Loss = 0.8552481532096863\n"
     ]
    },
    {
     "name": "stderr",
     "output_type": "stream",
     "text": [
      "100%|██████████| 59/59 [00:01<00:00, 58.32it/s]\n",
      "100%|██████████| 26/26 [00:00<00:00, 57.62it/s]\n"
     ]
    },
    {
     "name": "stdout",
     "output_type": "stream",
     "text": [
      "Computing accuracy\n",
      "Test set accuracy (Precision@1) = 0.8562577447335812\n",
      "Epoch 179 Iteration 0: Loss = 0.8162265419960022\n",
      "Epoch 179 Iteration 10: Loss = 0.0\n",
      "Epoch 179 Iteration 20: Loss = 0.0\n",
      "Epoch 179 Iteration 30: Loss = 0.8473488092422485\n",
      "Epoch 179 Iteration 40: Loss = 0.8303679823875427\n",
      "Epoch 179 Iteration 50: Loss = 0.8420490622520447\n"
     ]
    },
    {
     "name": "stderr",
     "output_type": "stream",
     "text": [
      "100%|██████████| 59/59 [00:01<00:00, 54.73it/s]\n",
      "100%|██████████| 26/26 [00:00<00:00, 58.93it/s]\n"
     ]
    },
    {
     "name": "stdout",
     "output_type": "stream",
     "text": [
      "Computing accuracy\n",
      "Test set accuracy (Precision@1) = 0.862453531598513\n",
      "Epoch 180 Iteration 0: Loss = 0.8160209655761719\n",
      "Epoch 180 Iteration 10: Loss = 0.8298869132995605\n",
      "Epoch 180 Iteration 20: Loss = 0.878057599067688\n",
      "Epoch 180 Iteration 30: Loss = 1.6179932355880737\n",
      "Epoch 180 Iteration 40: Loss = 0.0\n",
      "Epoch 180 Iteration 50: Loss = 0.8362553119659424\n"
     ]
    },
    {
     "name": "stderr",
     "output_type": "stream",
     "text": [
      "100%|██████████| 59/59 [00:01<00:00, 58.66it/s]\n",
      "100%|██████████| 26/26 [00:00<00:00, 63.31it/s]\n"
     ]
    },
    {
     "name": "stdout",
     "output_type": "stream",
     "text": [
      "Computing accuracy\n",
      "Test set accuracy (Precision@1) = 0.8574969021065676\n",
      "Epoch 181 Iteration 0: Loss = 0.8515925407409668\n",
      "Epoch 181 Iteration 10: Loss = 0.8235139846801758\n",
      "Epoch 181 Iteration 20: Loss = 0.0\n",
      "Epoch 181 Iteration 30: Loss = 0.8707419037818909\n",
      "Epoch 181 Iteration 40: Loss = 0.8781574368476868\n",
      "Epoch 181 Iteration 50: Loss = 0.8348471522331238\n"
     ]
    },
    {
     "name": "stderr",
     "output_type": "stream",
     "text": [
      "100%|██████████| 59/59 [00:01<00:00, 56.75it/s]\n",
      "100%|██████████| 26/26 [00:00<00:00, 58.96it/s]\n"
     ]
    },
    {
     "name": "stdout",
     "output_type": "stream",
     "text": [
      "Computing accuracy\n",
      "Test set accuracy (Precision@1) = 0.8649318463444857\n",
      "Epoch 182 Iteration 0: Loss = 0.8369849920272827\n",
      "Epoch 182 Iteration 10: Loss = 0.0\n",
      "Epoch 182 Iteration 20: Loss = 1.7201404571533203\n",
      "Epoch 182 Iteration 30: Loss = 1.6289923191070557\n",
      "Epoch 182 Iteration 40: Loss = 0.8212751150131226\n",
      "Epoch 182 Iteration 50: Loss = 0.830009937286377\n"
     ]
    },
    {
     "name": "stderr",
     "output_type": "stream",
     "text": [
      "100%|██████████| 59/59 [00:01<00:00, 57.62it/s]\n",
      "100%|██████████| 26/26 [00:00<00:00, 60.58it/s]\n"
     ]
    },
    {
     "name": "stdout",
     "output_type": "stream",
     "text": [
      "Computing accuracy\n",
      "Test set accuracy (Precision@1) = 0.8500619578686494\n",
      "Epoch 183 Iteration 0: Loss = 0.8231433033943176\n",
      "Epoch 183 Iteration 10: Loss = 0.0\n",
      "Epoch 183 Iteration 20: Loss = 0.0\n",
      "Epoch 183 Iteration 30: Loss = 0.8334402441978455\n",
      "Epoch 183 Iteration 40: Loss = 0.8268899917602539\n",
      "Epoch 183 Iteration 50: Loss = 0.8239734768867493\n"
     ]
    },
    {
     "name": "stderr",
     "output_type": "stream",
     "text": [
      "100%|██████████| 59/59 [00:01<00:00, 56.60it/s]\n",
      "100%|██████████| 26/26 [00:00<00:00, 59.70it/s]\n"
     ]
    },
    {
     "name": "stdout",
     "output_type": "stream",
     "text": [
      "Computing accuracy\n",
      "Test set accuracy (Precision@1) = 0.8698884758364313\n",
      "Epoch 184 Iteration 0: Loss = 0.8481277823448181\n",
      "Epoch 184 Iteration 10: Loss = 0.8072988986968994\n",
      "Epoch 184 Iteration 20: Loss = 0.8453444242477417\n",
      "Epoch 184 Iteration 30: Loss = 0.8156164288520813\n",
      "Epoch 184 Iteration 40: Loss = 0.8773176074028015\n",
      "Epoch 184 Iteration 50: Loss = 0.8397476077079773\n"
     ]
    },
    {
     "name": "stderr",
     "output_type": "stream",
     "text": [
      "100%|██████████| 59/59 [00:01<00:00, 57.64it/s]\n",
      "100%|██████████| 26/26 [00:00<00:00, 61.14it/s]\n"
     ]
    },
    {
     "name": "stdout",
     "output_type": "stream",
     "text": [
      "Computing accuracy\n",
      "Test set accuracy (Precision@1) = 0.8562577447335812\n",
      "Epoch 185 Iteration 0: Loss = 0.8422151803970337\n",
      "Epoch 185 Iteration 10: Loss = 0.0\n",
      "Epoch 185 Iteration 20: Loss = 0.8089953660964966\n",
      "Epoch 185 Iteration 30: Loss = 1.800915002822876\n",
      "Epoch 185 Iteration 40: Loss = 0.8154979348182678\n",
      "Epoch 185 Iteration 50: Loss = 1.6933825016021729\n"
     ]
    },
    {
     "name": "stderr",
     "output_type": "stream",
     "text": [
      "100%|██████████| 59/59 [00:01<00:00, 58.98it/s]\n",
      "100%|██████████| 26/26 [00:00<00:00, 60.08it/s]\n"
     ]
    },
    {
     "name": "stdout",
     "output_type": "stream",
     "text": [
      "Computing accuracy\n",
      "Test set accuracy (Precision@1) = 0.8649318463444857\n",
      "Epoch 186 Iteration 0: Loss = 1.6547799110412598\n",
      "Epoch 186 Iteration 10: Loss = 0.8423844575881958\n",
      "Epoch 186 Iteration 20: Loss = 0.8519876003265381\n",
      "Epoch 186 Iteration 30: Loss = 0.8673959374427795\n",
      "Epoch 186 Iteration 40: Loss = 0.8412542343139648\n",
      "Epoch 186 Iteration 50: Loss = 0.0\n"
     ]
    },
    {
     "name": "stderr",
     "output_type": "stream",
     "text": [
      "100%|██████████| 59/59 [00:01<00:00, 54.99it/s]\n",
      "100%|██████████| 26/26 [00:00<00:00, 62.02it/s]\n"
     ]
    },
    {
     "name": "stdout",
     "output_type": "stream",
     "text": [
      "Computing accuracy\n",
      "Test set accuracy (Precision@1) = 0.8550185873605948\n",
      "Epoch 187 Iteration 0: Loss = 0.8350149393081665\n",
      "Epoch 187 Iteration 10: Loss = 0.8290818333625793\n",
      "Epoch 187 Iteration 20: Loss = 0.8286461234092712\n",
      "Epoch 187 Iteration 30: Loss = 0.8383580446243286\n",
      "Epoch 187 Iteration 40: Loss = 0.8814963698387146\n",
      "Epoch 187 Iteration 50: Loss = 0.8234374523162842\n"
     ]
    },
    {
     "name": "stderr",
     "output_type": "stream",
     "text": [
      "100%|██████████| 59/59 [00:01<00:00, 56.54it/s]\n",
      "100%|██████████| 26/26 [00:00<00:00, 56.68it/s]\n"
     ]
    },
    {
     "name": "stdout",
     "output_type": "stream",
     "text": [
      "Computing accuracy\n",
      "Test set accuracy (Precision@1) = 0.8587360594795539\n",
      "Epoch 188 Iteration 0: Loss = 0.8527604937553406\n",
      "Epoch 188 Iteration 10: Loss = 0.8175528049468994\n",
      "Epoch 188 Iteration 20: Loss = 1.6799962520599365\n",
      "Epoch 188 Iteration 30: Loss = 0.8543478846549988\n",
      "Epoch 188 Iteration 40: Loss = 0.849765956401825\n",
      "Epoch 188 Iteration 50: Loss = 0.0\n"
     ]
    },
    {
     "name": "stderr",
     "output_type": "stream",
     "text": [
      "100%|██████████| 59/59 [00:01<00:00, 57.93it/s]\n",
      "100%|██████████| 26/26 [00:00<00:00, 56.31it/s]\n"
     ]
    },
    {
     "name": "stdout",
     "output_type": "stream",
     "text": [
      "Computing accuracy\n",
      "Test set accuracy (Precision@1) = 0.8760842627013631\n",
      "Epoch 189 Iteration 0: Loss = 0.9124592542648315\n",
      "Epoch 189 Iteration 10: Loss = 0.8274863958358765\n",
      "Epoch 189 Iteration 20: Loss = 0.8691789507865906\n",
      "Epoch 189 Iteration 30: Loss = 0.872002899646759\n",
      "Epoch 189 Iteration 40: Loss = 0.8524182438850403\n",
      "Epoch 189 Iteration 50: Loss = 1.7171688079833984\n"
     ]
    },
    {
     "name": "stderr",
     "output_type": "stream",
     "text": [
      "100%|██████████| 59/59 [00:01<00:00, 56.11it/s]\n",
      "100%|██████████| 26/26 [00:00<00:00, 58.12it/s]\n"
     ]
    },
    {
     "name": "stdout",
     "output_type": "stream",
     "text": [
      "Computing accuracy\n",
      "Test set accuracy (Precision@1) = 0.8711276332094176\n",
      "Epoch 190 Iteration 0: Loss = 0.8441012501716614\n",
      "Epoch 190 Iteration 10: Loss = 0.8374321460723877\n",
      "Epoch 190 Iteration 20: Loss = 0.0\n",
      "Epoch 190 Iteration 30: Loss = 1.7162327766418457\n",
      "Epoch 190 Iteration 40: Loss = 0.8046173453330994\n",
      "Epoch 190 Iteration 50: Loss = 0.8516751527786255\n"
     ]
    },
    {
     "name": "stderr",
     "output_type": "stream",
     "text": [
      "100%|██████████| 59/59 [00:01<00:00, 58.85it/s]\n",
      "100%|██████████| 26/26 [00:00<00:00, 62.28it/s]\n"
     ]
    },
    {
     "name": "stdout",
     "output_type": "stream",
     "text": [
      "Computing accuracy\n",
      "Test set accuracy (Precision@1) = 0.8686493184634448\n",
      "Epoch 191 Iteration 0: Loss = 1.6403305530548096\n",
      "Epoch 191 Iteration 10: Loss = 0.0\n",
      "Epoch 191 Iteration 20: Loss = 0.8061966300010681\n",
      "Epoch 191 Iteration 30: Loss = 1.725252389907837\n",
      "Epoch 191 Iteration 40: Loss = 0.8510842323303223\n",
      "Epoch 191 Iteration 50: Loss = 0.8087871670722961\n"
     ]
    },
    {
     "name": "stderr",
     "output_type": "stream",
     "text": [
      "100%|██████████| 59/59 [00:01<00:00, 55.61it/s]\n",
      "100%|██████████| 26/26 [00:00<00:00, 57.90it/s]\n"
     ]
    },
    {
     "name": "stdout",
     "output_type": "stream",
     "text": [
      "Computing accuracy\n",
      "Test set accuracy (Precision@1) = 0.8711276332094176\n",
      "Epoch 192 Iteration 0: Loss = 0.8424670100212097\n",
      "Epoch 192 Iteration 10: Loss = 1.650911569595337\n",
      "Epoch 192 Iteration 20: Loss = 0.0\n",
      "Epoch 192 Iteration 30: Loss = 0.8234292268753052\n",
      "Epoch 192 Iteration 40: Loss = 1.8134956359863281\n",
      "Epoch 192 Iteration 50: Loss = 0.8340485692024231\n"
     ]
    },
    {
     "name": "stderr",
     "output_type": "stream",
     "text": [
      "100%|██████████| 59/59 [00:00<00:00, 59.11it/s]\n",
      "100%|██████████| 26/26 [00:00<00:00, 61.71it/s]\n"
     ]
    },
    {
     "name": "stdout",
     "output_type": "stream",
     "text": [
      "Computing accuracy\n",
      "Test set accuracy (Precision@1) = 0.8785625774473358\n",
      "Epoch 193 Iteration 0: Loss = 1.671067714691162\n",
      "Epoch 193 Iteration 10: Loss = 0.844528317451477\n",
      "Epoch 193 Iteration 20: Loss = 0.8004037141799927\n",
      "Epoch 193 Iteration 30: Loss = 0.8387724757194519\n",
      "Epoch 193 Iteration 40: Loss = 1.702499508857727\n",
      "Epoch 193 Iteration 50: Loss = 0.8284568786621094\n"
     ]
    },
    {
     "name": "stderr",
     "output_type": "stream",
     "text": [
      "100%|██████████| 59/59 [00:01<00:00, 56.81it/s]\n",
      "100%|██████████| 26/26 [00:00<00:00, 58.10it/s]\n"
     ]
    },
    {
     "name": "stdout",
     "output_type": "stream",
     "text": [
      "Computing accuracy\n",
      "Test set accuracy (Precision@1) = 0.8599752168525403\n",
      "Epoch 194 Iteration 0: Loss = 0.8468306064605713\n",
      "Epoch 194 Iteration 10: Loss = 0.8217012286186218\n",
      "Epoch 194 Iteration 20: Loss = 0.8764062523841858\n",
      "Epoch 194 Iteration 30: Loss = 0.8310333490371704\n",
      "Epoch 194 Iteration 40: Loss = 0.865565299987793\n",
      "Epoch 194 Iteration 50: Loss = 0.0\n"
     ]
    },
    {
     "name": "stderr",
     "output_type": "stream",
     "text": [
      "100%|██████████| 59/59 [00:01<00:00, 55.46it/s]\n",
      "100%|██████████| 26/26 [00:00<00:00, 60.19it/s]\n"
     ]
    },
    {
     "name": "stdout",
     "output_type": "stream",
     "text": [
      "Computing accuracy\n",
      "Test set accuracy (Precision@1) = 0.8686493184634448\n",
      "Epoch 195 Iteration 0: Loss = 1.6620519161224365\n",
      "Epoch 195 Iteration 10: Loss = 0.8656180500984192\n",
      "Epoch 195 Iteration 20: Loss = 0.8105476498603821\n",
      "Epoch 195 Iteration 30: Loss = 0.8089406490325928\n",
      "Epoch 195 Iteration 40: Loss = 0.8406553268432617\n",
      "Epoch 195 Iteration 50: Loss = 0.0\n"
     ]
    },
    {
     "name": "stderr",
     "output_type": "stream",
     "text": [
      "100%|██████████| 59/59 [00:00<00:00, 59.04it/s]\n",
      "100%|██████████| 26/26 [00:00<00:00, 60.93it/s]\n"
     ]
    },
    {
     "name": "stdout",
     "output_type": "stream",
     "text": [
      "Computing accuracy\n",
      "Test set accuracy (Precision@1) = 0.8550185873605948\n",
      "Epoch 196 Iteration 0: Loss = 0.0\n",
      "Epoch 196 Iteration 10: Loss = 0.825721025466919\n",
      "Epoch 196 Iteration 20: Loss = 0.8156309127807617\n",
      "Epoch 196 Iteration 30: Loss = 0.8332378268241882\n",
      "Epoch 196 Iteration 40: Loss = 1.663849115371704\n",
      "Epoch 196 Iteration 50: Loss = 0.8460298776626587\n"
     ]
    },
    {
     "name": "stderr",
     "output_type": "stream",
     "text": [
      "100%|██████████| 59/59 [00:01<00:00, 53.41it/s]\n",
      "100%|██████████| 26/26 [00:00<00:00, 60.85it/s]\n"
     ]
    },
    {
     "name": "stdout",
     "output_type": "stream",
     "text": [
      "Computing accuracy\n",
      "Test set accuracy (Precision@1) = 0.8488228004956629\n",
      "Epoch 197 Iteration 0: Loss = 0.8353092670440674\n",
      "Epoch 197 Iteration 10: Loss = 0.8394492864608765\n",
      "Epoch 197 Iteration 20: Loss = 0.8439995646476746\n",
      "Epoch 197 Iteration 30: Loss = 0.8618233799934387\n",
      "Epoch 197 Iteration 40: Loss = 0.8408483266830444\n",
      "Epoch 197 Iteration 50: Loss = 0.8212419152259827\n"
     ]
    },
    {
     "name": "stderr",
     "output_type": "stream",
     "text": [
      "100%|██████████| 59/59 [00:01<00:00, 53.65it/s]\n",
      "100%|██████████| 26/26 [00:00<00:00, 57.49it/s]\n"
     ]
    },
    {
     "name": "stdout",
     "output_type": "stream",
     "text": [
      "Computing accuracy\n",
      "Test set accuracy (Precision@1) = 0.8798017348203222\n",
      "Epoch 198 Iteration 0: Loss = 0.8326072096824646\n",
      "Epoch 198 Iteration 10: Loss = 0.8326903581619263\n",
      "Epoch 198 Iteration 20: Loss = 0.8184924721717834\n",
      "Epoch 198 Iteration 30: Loss = 1.7099348306655884\n",
      "Epoch 198 Iteration 40: Loss = 0.8296104669570923\n",
      "Epoch 198 Iteration 50: Loss = 0.8273435831069946\n"
     ]
    },
    {
     "name": "stderr",
     "output_type": "stream",
     "text": [
      "100%|██████████| 59/59 [00:01<00:00, 57.43it/s]\n",
      "100%|██████████| 26/26 [00:00<00:00, 60.88it/s]\n"
     ]
    },
    {
     "name": "stdout",
     "output_type": "stream",
     "text": [
      "Computing accuracy\n",
      "Test set accuracy (Precision@1) = 0.8711276332094176\n",
      "Epoch 199 Iteration 0: Loss = 0.803071916103363\n",
      "Epoch 199 Iteration 10: Loss = 0.8621042370796204\n",
      "Epoch 199 Iteration 20: Loss = 0.874152660369873\n",
      "Epoch 199 Iteration 30: Loss = 0.8599517941474915\n",
      "Epoch 199 Iteration 40: Loss = 0.8401930928230286\n",
      "Epoch 199 Iteration 50: Loss = 0.8109472990036011\n"
     ]
    },
    {
     "name": "stderr",
     "output_type": "stream",
     "text": [
      "100%|██████████| 59/59 [00:01<00:00, 52.27it/s]\n",
      "100%|██████████| 26/26 [00:00<00:00, 57.76it/s]\n"
     ]
    },
    {
     "name": "stdout",
     "output_type": "stream",
     "text": [
      "Computing accuracy\n",
      "Test set accuracy (Precision@1) = 0.8574969021065676\n",
      "Epoch 200 Iteration 0: Loss = 1.66204035282135\n",
      "Epoch 200 Iteration 10: Loss = 0.8438754677772522\n",
      "Epoch 200 Iteration 20: Loss = 0.8638666272163391\n",
      "Epoch 200 Iteration 30: Loss = 0.8253830075263977\n",
      "Epoch 200 Iteration 40: Loss = 0.0\n",
      "Epoch 200 Iteration 50: Loss = 0.8562712669372559\n"
     ]
    },
    {
     "name": "stderr",
     "output_type": "stream",
     "text": [
      "100%|██████████| 59/59 [00:01<00:00, 56.56it/s]\n",
      "100%|██████████| 26/26 [00:00<00:00, 56.21it/s]\n"
     ]
    },
    {
     "name": "stdout",
     "output_type": "stream",
     "text": [
      "Computing accuracy\n",
      "Test set accuracy (Precision@1) = 0.8698884758364313\n"
     ]
    }
   ],
   "source": [
    "### MNIST code originally from https://github.com/pytorch/examples/blob/master/mnist/main.py ###\n",
    "def train(model, loss_func, mining_func, device, train_loader, optimizer, epoch):\n",
    "    model.train()\n",
    "    for batch_idx, (data, labels) in enumerate(train_loader):\n",
    "        data, labels = data.to(device), labels.to(device)\n",
    "        optimizer.zero_grad()\n",
    "        embeddings = model(data)\n",
    "        indices_tuple = mining_func(embeddings, labels)\n",
    "        loss = loss_func(embeddings, labels, indices_tuple)\n",
    "        loss.backward()\n",
    "        optimizer.step()\n",
    "        if batch_idx % 10 == 0:\n",
    "            print(\n",
    "                \"Epoch {} Iteration {}: Loss = {}\".format(\n",
    "                    epoch, batch_idx, loss\n",
    "                )\n",
    "            )\n",
    "\n",
    "\n",
    "### convenient function from pytorch-metric-learning ###\n",
    "def get_all_embeddings(dataset, model):\n",
    "    tester = testers.BaseTester()\n",
    "    return tester.get_all_embeddings(dataset, model)\n",
    "\n",
    "\n",
    "### compute accuracy using AccuracyCalculator from pytorch-metric-learning ###\n",
    "def test(train_set, test_set, model, accuracy_calculator):\n",
    "    train_embeddings, train_labels = get_all_embeddings(train_set, model)\n",
    "    test_embeddings, test_labels = get_all_embeddings(test_set, model)\n",
    "    train_labels = train_labels.squeeze(1)\n",
    "    test_labels = test_labels.squeeze(1)\n",
    "    print(\"Computing accuracy\")\n",
    "    accuracies = accuracy_calculator.get_accuracy(\n",
    "        test_embeddings, train_embeddings, test_labels, train_labels, False\n",
    "    )\n",
    "    print(\"Test set accuracy (Precision@1) = {}\".format(accuracies[\"precision_at_1\"]))\n",
    "    return accuracies\n",
    "\n",
    "\n",
    "device = torch.device(\"cuda\")\n",
    "\n",
    "transform = transforms.Compose(\n",
    "    [transforms.ToTensor(), transforms.Normalize((0.1307,), (0.3081,))]\n",
    ")\n",
    "\n",
    "batch_size = 256\n",
    "\n",
    "model = Net().to(device)\n",
    "########\n",
    "PATH = 'model_pt/best_params.pt'\n",
    "#model = models.resnet18(pretrained=True)\n",
    "#model.fc = nn.Linear(512, 8)\n",
    "model.load_state_dict(torch.load(PATH))\n",
    "model.to(device)\n",
    "cuda = torch.cuda.is_available()\n",
    "if torch.cuda.is_available():\n",
    "    model.cuda()\n",
    "########\n",
    "optimizer = optim.Adam(model.parameters(), lr=0.01)\n",
    "num_epochs = 200\n",
    "\n",
    "### pytorch-metric-learning stuff ###\n",
    "distance = distances.CosineSimilarity()\n",
    "reducer = reducers.ThresholdReducer(low=0)\n",
    "#loss_func = losses.TripletMarginLoss(margin=0.2, distance=distance, reducer=reducer)\n",
    "loss_func = losses.ContrastiveLoss(pos_margin=1, neg_margin=0,  distance=distance, reducer=reducer)\n",
    "mining_func = None\n",
    "mining_func = miners.PairMarginMiner(\n",
    "    distance=distance\n",
    ")\n",
    "accuracy_calculator = AccuracyCalculator(include=(\"precision_at_1\",), k=5)\n",
    "### pytorch-metric-learning stuff ###\n",
    "criterion = nn.CrossEntropyLoss()   #logsoftmax layer + NLLLoss\n",
    "\n",
    "for epoch in range(1, num_epochs + 1):\n",
    "    train(model, loss_func, mining_func, device, train_loader, optimizer, epoch)\n",
    "    val_acc1 = test(train_data, test_data, model, accuracy_calculator)\n",
    "    #print(type(val_acc1))\n",
    "    #print(val_acc1['precision_at_1'])\n",
    "    best_accuracy = 0.0\n",
    "    val_acc = val_acc1['precision_at_1']\n",
    "    if best_accuracy < val_acc:\n",
    "        best_accuracy = val_acc\n",
    "        torch.save(model.state_dict(), 'model_pt' + '/best_params2.pt')  #save the model state for best val accuracy\n",
    "\n",
    "    #val_loss, val_acc = eval_epoch(model, test_loader, criterion, epoch)  "
   ]
  },
  {
   "cell_type": "code",
   "execution_count": 9,
   "metadata": {},
   "outputs": [
    {
     "data": {
      "text/plain": [
       "<All keys matched successfully>"
      ]
     },
     "execution_count": 9,
     "metadata": {},
     "output_type": "execute_result"
    }
   ],
   "source": [
    "model = Net().to(device)\n",
    "model.load_state_dict(torch.load(PATH))"
   ]
  },
  {
   "cell_type": "code",
   "execution_count": 10,
   "metadata": {},
   "outputs": [
    {
     "data": {
      "image/png": "[encoded data removed]",
      "text/plain": [
       "<Figure size 720x720 with 1 Axes>"
      ]
     },
     "metadata": {
      "needs_background": "light"
     },
     "output_type": "display_data"
    },
    {
     "data": {
      "image/png": "[encoded data removed]",
      "text/plain": [
       "<Figure size 720x720 with 1 Axes>"
      ]
     },
     "metadata": {
      "needs_background": "light"
     },
     "output_type": "display_data"
    }
   ],
   "source": [
    "%matplotlib inline\n",
    "import numpy as np\n",
    "cuda = torch.cuda.is_available()\n",
    "import matplotlib\n",
    "import matplotlib.pyplot as plt\n",
    "\n",
    "classes = ['0', '1', '2', '3', '4', '5', '6', '7']\n",
    "colors = ['#1f77b4', '#ff7f0e', '#2ca02c', '#d62728',\n",
    "              '#9467bd', '#8c564b', '#e377c2', '#7f7f7f',\n",
    "        ]\n",
    "\n",
    "def plot_embeddings(embeddings, targets, xlim=None, ylim=None):\n",
    "    plt.figure(figsize=(10,10))\n",
    "    for i in range(len(classes)):\n",
    "        inds = np.where(targets==i)[0]\n",
    "        plt.scatter(embeddings[inds,0], embeddings[inds,1], alpha=0.5, color=colors[i])\n",
    "    if xlim:\n",
    "        plt.xlim(xlim[0], xlim[1])\n",
    "    if ylim:\n",
    "        plt.ylim(ylim[0], ylim[1])\n",
    "    plt.legend(classes)\n",
    "\n",
    "def extract_embeddings(dataloader, model):\n",
    "    with torch.no_grad():\n",
    "        model.eval()\n",
    "        embeddings = np.zeros((len(dataloader.dataset), 8))\n",
    "        labels = np.zeros(len(dataloader.dataset))\n",
    "        k = 0\n",
    "        for images, target in dataloader:\n",
    "            if cuda:\n",
    "                images = images.cuda()\n",
    "            embeddings[k:k+len(images)] = model.get_embedding(images.float()).data.cpu().numpy()\n",
    "            labels[k:k+len(images)] = target.numpy()\n",
    "            k += len(images)\n",
    "    return embeddings, labels\n",
    "\n",
    "\n",
    "train_embeddings_otl, train_labels_otl = extract_embeddings(train_loader, model)\n",
    "plot_embeddings(train_embeddings_otl, train_labels_otl)\n",
    "val_embeddings_otl, val_labels_otl = extract_embeddings(test_loader, model)\n",
    "plot_embeddings(val_embeddings_otl, val_labels_otl)"
   ]
  },
  {
   "cell_type": "code",
   "execution_count": 11,
   "metadata": {},
   "outputs": [
    {
     "name": "stderr",
     "output_type": "stream",
     "text": [
      "/home/manelguz/miniconda3/envs/pytorch_env/lib/python3.7/site-packages/sklearn/manifold/_t_sne.py:793: FutureWarning: The default learning rate in TSNE will change from 200.0 to 'auto' in 1.2.\n",
      "  FutureWarning,\n"
     ]
    },
    {
     "name": "stdout",
     "output_type": "stream",
     "text": [
      "score obtained equal to 0.8612143742255266\n"
     ]
    },
    {
     "data": {
      "image/png": "[encoded data removed]",
      "text/plain": [
       "<Figure size 720x720 with 1 Axes>"
      ]
     },
     "metadata": {
      "needs_background": "light"
     },
     "output_type": "display_data"
    }
   ],
   "source": [
    "%matplotlib inline\n",
    "#from plot_emb import plot_embeddings, extract_embeddings\n",
    "import numpy as np\n",
    "cuda = torch.cuda.is_available()\n",
    "import matplotlib\n",
    "import matplotlib.pyplot as plt\n",
    "\n",
    "classes = ['0', '1', '2', '3', '4', '5', '6', '7']\n",
    "colors = ['#1f77b4', '#ff7f0e', '#2ca02c', '#d62728',\n",
    "              '#9467bd', '#8c564b', '#e377c2', '#7f7f7f',\n",
    "        ]\n",
    "\n",
    "def plot_embeddings(embeddings, targets, xlim=None, ylim=None):\n",
    "    plt.figure(figsize=(10,10))\n",
    "    for i in range(len(classes)):\n",
    "        inds = np.where(targets==i)[0]\n",
    "        plt.scatter(embeddings[inds,0], embeddings[inds,1], alpha=0.5, color=colors[i])\n",
    "    if xlim:\n",
    "        plt.xlim(xlim[0], xlim[1])\n",
    "    if ylim:\n",
    "        plt.ylim(ylim[0], ylim[1])\n",
    "    plt.legend(classes)\n",
    "\n",
    "def extract_embeddings(dataloader, model):\n",
    "    with torch.no_grad():\n",
    "        model.eval()\n",
    "        embeddings = np.zeros((len(dataloader.dataset), 8))\n",
    "        labels = np.zeros(len(dataloader.dataset))\n",
    "        k = 0\n",
    "        for images, target in dataloader:\n",
    "            if cuda:\n",
    "                images = images.cuda()\n",
    "            embeddings[k:k+len(images)] = model.get_embedding(images.float()).data.cpu().numpy()\n",
    "            labels[k:k+len(images)] = target.numpy()\n",
    "            k += len(images)\n",
    "    return embeddings, labels\n",
    "\n",
    "\n",
    "def fit_retrival(embeddings,labels,mode='knn'):\n",
    "    if mode == 'knn':\n",
    "        clf = neighbors.KNeighborsClassifier(n_neighbors=8)\n",
    "        clf.fit(embeddings, labels)\n",
    "    return clf\n",
    "def predict_retrival(model,embeddings,labels):\n",
    "    return model.predict(embeddings),model.score(embeddings,labels)\n",
    "def plot_TSNE(embeddings):\n",
    "    from sklearn.manifold import TSNE\n",
    "    X_embedded = TSNE(n_components=2,\n",
    "                 init='random').fit_transform(embeddings)\n",
    "    return  X_embedded\n",
    "\n",
    "train_embeddings_otl, train_labels_otl = extract_embeddings(train_loader, model)\n",
    "\n",
    "TSNE_embedding = plot_TSNE(train_embeddings_otl)\n",
    "retrival_module = fit_retrival(train_embeddings_otl,train_labels_otl,mode='knn')\n",
    "\n",
    "plot_embeddings(TSNE_embedding, train_labels_otl)\n",
    "\n",
    "\n",
    "test_embeddings_otl, test_labels_otl = extract_embeddings(test_loader, model)\n",
    "labels,score = predict_retrival(retrival_module,test_embeddings_otl, test_labels_otl)\n",
    "print('score obtained equal to {}'.format(score))\n"
   ]
  },
  {
   "cell_type": "code",
   "execution_count": 12,
   "metadata": {},
   "outputs": [],
   "source": [
    "def precision_recall_curve(X,Y,module):\n",
    "    from sklearn.metrics import (precision_recall_curve,\n",
    "                              PrecisionRecallDisplay)\n",
    "    from sklearn import preprocessing\n",
    "    predictions = module.predict(X)\n",
    "    y_score = module.predict_proba(X)\n",
    "    precision = dict()\n",
    "    clf = preprocessing.LabelBinarizer()\n",
    "    clf.fit(Y)\n",
    "    Y = clf.transform(Y)\n",
    "    recall = dict()\n",
    "    for i in range(8):\n",
    "        precision[i], recall[i], _ = precision_recall_curve(Y[:, i],\n",
    "                                                            y_score[:, i])\n",
    "        plt.plot(recall[i], precision[i], lw=2, label='class {}'.format(i))\n",
    "        \n",
    "    plt.xlabel(\"recall\")\n",
    "    plt.ylabel(\"precision\")\n",
    "    plt.legend(loc=\"best\")\n",
    "    plt.title(\"precision vs. recall curve\")\n",
    "    plt.show()\n",
    "\n"
   ]
  },
  {
   "cell_type": "code",
   "execution_count": 13,
   "metadata": {},
   "outputs": [
    {
     "data": {
      "image/png": "[encoded data removed]",
      "text/plain": [
       "<Figure size 432x288 with 1 Axes>"
      ]
     },
     "metadata": {
      "needs_background": "light"
     },
     "output_type": "display_data"
    }
   ],
   "source": [
    "precision_recall_curve(test_embeddings_otl, test_labels_otl,retrival_module)"
   ]
  },
  {
   "cell_type": "code",
   "execution_count": null,
   "metadata": {},
   "outputs": [],
   "source": []
  }
 ],
 "metadata": {
  "interpreter": {
   "hash": "03f05a97f2bb0ce3f6fafc3f3fcc1e8d927350d5dfbed5fd507fadf4b9fa551c"
  },
  "kernelspec": {
   "display_name": "Python 3.7.10 ('pytorch_env')",
   "language": "python",
   "name": "python3"
  },
  "language_info": {
   "codemirror_mode": {
    "name": "ipython",
    "version": 3
   },
   "file_extension": ".py",
   "mimetype": "text/x-python",
   "name": "python",
   "nbconvert_exporter": "python",
   "pygments_lexer": "ipython3",
   "version": "3.7.10"
  },
  "orig_nbformat": 4
 },
 "nbformat": 4,
 "nbformat_minor": 2
}
